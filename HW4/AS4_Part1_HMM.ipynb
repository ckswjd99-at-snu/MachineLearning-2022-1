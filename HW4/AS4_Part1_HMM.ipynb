{
 "cells": [
  {
   "cell_type": "markdown",
   "metadata": {
    "id": "lDJIV2EVBuFZ"
   },
   "source": [
    "# M2608.001300 기계학습 기초 및 전기정보 응용<br> Assignment #4 Part 1: Hidden Markov Model (HMM)"
   ]
  },
  {
   "cell_type": "markdown",
   "metadata": {
    "id": "YTaYtPr3Nmjj"
   },
   "source": [
    "Copyright (C) Data Science & AI Laboratory, Seoul National University. This material is for educational uses only. Some contents are based on the material provided by other paper/book authors and may be copyrighted by them. Written by Dongjin Lee, May 2022."
   ]
  },
  {
   "cell_type": "code",
   "execution_count": 1,
   "metadata": {},
   "outputs": [],
   "source": [
    "import os\n",
    "os.environ['CUDA_LAUNCH_BLOCKING'] = \"1\"\n",
    "os.environ[\"CUDA_VISIBLE_DEVICES\"] = \"0\""
   ]
  },
  {
   "cell_type": "markdown",
   "metadata": {
    "id": "OVNbco0DV1-_"
   },
   "source": [
    "**For understanding of this work, please carefully look at given PPT file.**\n",
    "\n",
    "Now, you're going to leave behind your implementations and instead migrate to one of popular deep learning frameworks, **PyTorch**. <br>\n",
    "In this notebook, you will learn how to train a Hidden Markov Model (HMM) for sequential modeling. <br>\n",
    "You need to follow the instructions to **complete 5 TODO sections and explain them if needed.**\n",
    "\n",
    "You will see:\n",
    "- what HMM is and when you might want to use it;\n",
    "- the so-called \"three problems\" of an HMM; and \n",
    "- how to implement HMM in PyTorch.\n",
    "\n",
    "\n",
    "**Note**: certain details are missing or ambiguous on purpose, in order to test your knowledge on the related materials. However, if you really feel that something essential is missing and cannot proceed to the next step, then contact the teaching staff with clear description of your problem.\n",
    "\n",
    "<font color=red>**DO NOT clear the final outputs**</font> so that TAs can grade both your code and results.\n",
    "\n",
    "\n",
    "### Some helpful tutorials and references for assignment #4:\n",
    "- [1] Pytorch official documentation. [[link]](https://pytorch.org/docs/stable/index.html)\n",
    "- [2] Stanford CS231n lectures. [[link]](http://cs231n.stanford.edu/)\n",
    "- [3] https://ratsgo.github.io/machine%20learning/2017/03/18/HMMs/\n",
    "- [4] https://ratsgo.github.io/natural%20language%20processing/2017/03/09/rnnlstm/"
   ]
  },
  {
   "cell_type": "markdown",
   "metadata": {
    "id": "efPPcGy0gP6H"
   },
   "source": [
    "## Problem 1. Implementing Hidden Markov Model\n",
    "\n",
    "A hypothetical scenario\n",
    "------\n",
    "\n",
    "To motivate the use of HMMs, imagine that you have a friend who gets to do a lot of travelling. Every day, this jet-setting friend sends you a selfie from the city they’re in, to make you envious."
   ]
  },
  {
   "cell_type": "markdown",
   "metadata": {
    "id": "Cs3z7pnVib9g"
   },
   "source": [
    "<center>\n",
    "\n",
    "![Diagram of a traveling friend sending selfies](https://github.com/lorenlugosch/pytorch_HMM/blob/master/img/selfies.png?raw=true)\n",
    "</center>\n",
    "\n",
    "\n",
    "\n"
   ]
  },
  {
   "cell_type": "markdown",
   "metadata": {
    "id": "hTPNK3IjirDA"
   },
   "source": [
    "How would you go about guessing which city the friend is in each day, just by looking at the selfies?\n",
    "\n",
    "If the selfie contains a really obvious landmark, like the Eiffel Tower, it will be easy to figure out where the photo was taken. If not, it will be a lot harder to infer the city.\n",
    "\n",
    "But we have a clue to help us: the city the friend is in each day is not totally random. For example, the friend will probably remain in the same city for a few days to sightsee before flying to a new city."
   ]
  },
  {
   "cell_type": "markdown",
   "metadata": {
    "id": "k4g7IG7CBx-Y"
   },
   "source": [
    "## The HMM setup\n",
    "\n",
    "The hypothetical scenario of the friend travelling between cities and sending you selfies can be modeled using an HMM.\n"
   ]
  },
  {
   "cell_type": "markdown",
   "metadata": {
    "id": "NpwgbDTnRzRa"
   },
   "source": [
    "An HMM models a system that is in a particular state at any given time and produces an output that depends on that state. \n",
    "\n",
    "At each timestep or clock tick, the system randomly decides on a new state and jumps into that state. The system then randomly generates an observation. The states are \"hidden\": we can't observe them. (In the cities/selfies analogy, the unknown cities would be the hidden states, and the selfies would be the observations.)\n",
    "\n",
    "Let's denote the sequence of states as $\\mathbf{z} = \\{z_1, z_2, \\dots, z_T \\}$, where each state is one of a finite set of $N$ states, and the sequence of observations as $\\mathbf{x} = \\{x_1, x_2, \\dots, x_T\\}$. The observations could be discrete, like letters, or real-valued, like audio frames."
   ]
  },
  {
   "cell_type": "markdown",
   "metadata": {
    "id": "uV5fAhEQDAcJ"
   },
   "source": [
    "<center>\n",
    "\n",
    "![Diagram of an HMM for three timesteps](https://github.com/lorenlugosch/pytorch_HMM/blob/master/img/hmm.png?raw=true)\n",
    "</center>"
   ]
  },
  {
   "cell_type": "markdown",
   "metadata": {
    "id": "vMPrA6Uv-u-K"
   },
   "source": [
    "An HMM makes two key assumptions:\n",
    "- **Assumption 1:** The state at time $t$ depends *only* on the state at the previous time $t-1$. \n",
    "- **Assumption 2:** The output at time $t$ depends *only* on the state at time $t$.\n",
    "\n",
    "These two assumptions make it possible to efficiently compute certain quantities that we may be interested in."
   ]
  },
  {
   "cell_type": "markdown",
   "metadata": {
    "id": "mRNhSK7LgEIS"
   },
   "source": [
    "## Components of an HMM\n",
    "An HMM has three sets of trainable parameters.\n",
    "  \n"
   ]
  },
  {
   "cell_type": "markdown",
   "metadata": {
    "id": "7Pu3zm77vXwp"
   },
   "source": [
    "- The **transition model** is a square matrix $A$, where $A_{s, s'}$ represents $p(z_t = s|z_{t-1} = s')$, the probability of jumping from state $s'$ to state $s$. \n",
    "\n",
    "- The **emission model** $b_s(x_t)$ tells us $p(x_t|z_t = s)$, the probability of generating $x_t$ when the system is in state $s$. For discrete observations, which we will use in this notebook, the emission model is just a lookup table, with one row for each state, and one column for each observation. For real-valued observations, it is common to use a Gaussian mixture model or neural network to implement the emission model. \n",
    "\n",
    "- The **state priors** tell us $p(z_1 = s)$, the probability of starting in state $s$. We use $\\pi$ to denote the vector of state priors, so $\\pi_s$ is the state prior for state $s$.\n",
    "\n",
    "Let's program an HMM class in PyTorch."
   ]
  },
  {
   "cell_type": "code",
   "execution_count": 2,
   "metadata": {
    "id": "aZbW6Pj0og7K"
   },
   "outputs": [],
   "source": [
    "import torch\n",
    "import numpy as np\n",
    "\n",
    "class HMM(torch.nn.Module):\n",
    "  \"\"\"\n",
    "  Hidden Markov Model with discrete observations.\n",
    "  \"\"\"\n",
    "  def __init__(self, M, N):\n",
    "    super(HMM, self).__init__()\n",
    "    self.M = M # number of possible observations\n",
    "    self.N = N # number of states\n",
    "\n",
    "    # A\n",
    "    self.transition_model = TransitionModel(self.N)\n",
    "\n",
    "    # b(x_t)\n",
    "    self.emission_model = EmissionModel(self.N,self.M)\n",
    "\n",
    "    # pi\n",
    "    self.unnormalized_state_priors = torch.nn.Parameter(torch.randn(self.N))\n",
    "\n",
    "    # use the GPU\n",
    "    self.is_cuda = torch.cuda.is_available()\n",
    "    if self.is_cuda: self.cuda()\n",
    "\n",
    "class TransitionModel(torch.nn.Module):\n",
    "  def __init__(self, N):\n",
    "    super(TransitionModel, self).__init__()\n",
    "    self.N = N\n",
    "    self.unnormalized_transition_matrix = torch.nn.Parameter(torch.randn(N,N))\n",
    "\n",
    "class EmissionModel(torch.nn.Module):\n",
    "  def __init__(self, N, M):\n",
    "    super(EmissionModel, self).__init__()\n",
    "    self.N = N\n",
    "    self.M = M\n",
    "    self.unnormalized_emission_matrix = torch.nn.Parameter(torch.randn(N,M))"
   ]
  },
  {
   "cell_type": "markdown",
   "metadata": {
    "id": "eom3ueYtpXGo"
   },
   "source": [
    "To sample from the HMM, we start by picking a random initial state from the state prior distribution.\n",
    "\n",
    "Then, we sample an output from the emission distribution, sample a transition from the transition distribution, and repeat.\n",
    "\n",
    "(Notice that we pass the unnormalized model parameters through a softmax function to make them into probabilities.)\n"
   ]
  },
  {
   "cell_type": "code",
   "execution_count": 3,
   "metadata": {
    "id": "BpgkwNyVwmyM"
   },
   "outputs": [],
   "source": [
    "def sample(self, T=10):\n",
    "  state_priors = torch.nn.functional.softmax(self.unnormalized_state_priors, dim=0)\n",
    "  transition_matrix = torch.nn.functional.softmax(self.transition_model.unnormalized_transition_matrix, dim=0)\n",
    "  emission_matrix = torch.nn.functional.softmax(self.emission_model.unnormalized_emission_matrix, dim=1)\n",
    "\n",
    "  # sample initial state\n",
    "  z_t = torch.distributions.categorical.Categorical(state_priors).sample().item()\n",
    "  z = []; x = []\n",
    "  z.append(z_t)\n",
    "  for t in range(0,T):\n",
    "    # sample emission\n",
    "    x_t = torch.distributions.categorical.Categorical(emission_matrix[z_t]).sample().item()\n",
    "    x.append(x_t)\n",
    "\n",
    "    # sample transition\n",
    "    z_t = torch.distributions.categorical.Categorical(transition_matrix[:,z_t]).sample().item()\n",
    "    if t < T-1: z.append(z_t)\n",
    "\n",
    "  return x, z\n",
    "\n",
    "# Add the sampling method to our HMM class\n",
    "HMM.sample = sample"
   ]
  },
  {
   "cell_type": "markdown",
   "metadata": {
    "id": "ohsdYScawkRG"
   },
   "source": [
    "Let's try hard-coding an HMM for generating fake words. (We'll also add some helper functions for encoding and decoding strings.)\n",
    "\n",
    "We will assume that the system has one state for generating vowels and one state for generating consonants, and the transition matrix has 0s on the diagonal---in other words, the system cannot stay in the vowel state or the consonant state for more than one timestep; it has to switch.\n",
    "\n",
    "Since we pass the transition matrix through a softmax, to get 0s we set the unnormalized parameter values to $-\\infty$."
   ]
  },
  {
   "cell_type": "code",
   "execution_count": 4,
   "metadata": {
    "id": "eyR7yv_3sBG3"
   },
   "outputs": [
    {
     "name": "stdout",
     "output_type": "stream",
     "text": [
      "State priors: tensor([0.6225, 0.3775], device='cuda:0')\n",
      "Emission matrix: tensor([[0.0000, 0.0092, 0.0233, 0.0371, 0.0000, 0.0274, 0.0962, 0.0289, 0.0000,\n",
      "         0.0669, 0.0307, 0.0209, 0.0037, 0.0105, 0.0000, 0.0560, 0.0060, 0.0089,\n",
      "         0.2364, 0.0321, 0.0000, 0.0654, 0.0433, 0.0475, 0.0324, 0.1170],\n",
      "        [0.0431, 0.0000, 0.0000, 0.0000, 0.1992, 0.0000, 0.0000, 0.0000, 0.1661,\n",
      "         0.0000, 0.0000, 0.0000, 0.0000, 0.0000, 0.5743, 0.0000, 0.0000, 0.0000,\n",
      "         0.0000, 0.0000, 0.0174, 0.0000, 0.0000, 0.0000, 0.0000, 0.0000]],\n",
      "       device='cuda:0')\n",
      "Transition matrix: tensor([[0., 1.],\n",
      "        [1., 0.]], device='cuda:0')\n"
     ]
    }
   ],
   "source": [
    "import string\n",
    "alphabet = string.ascii_lowercase\n",
    "\n",
    "def encode(s):\n",
    "  \"\"\"\n",
    "  Convert a string into a list of integers\n",
    "  \"\"\"\n",
    "  x = [alphabet.index(ss) for ss in s]\n",
    "  return x\n",
    "\n",
    "def decode(x):\n",
    "  \"\"\"\n",
    "  Convert list of ints to string\n",
    "  \"\"\"\n",
    "  s = \"\".join([alphabet[xx] for xx in x])\n",
    "  return s\n",
    "\n",
    "# Initialize the model\n",
    "model = HMM(M=len(alphabet), N=2) \n",
    "\n",
    "# Hard-wiring the parameters!\n",
    "# Let state 0 = consonant, state 1 = vowel\n",
    "for p in model.parameters():\n",
    "    p.requires_grad = False # needed to do lines below\n",
    "model.unnormalized_state_priors[0] = 0.    # Let's start with a consonant more frequently\n",
    "model.unnormalized_state_priors[1] = -0.5\n",
    "print(\"State priors:\", torch.nn.functional.softmax(model.unnormalized_state_priors, dim=0))\n",
    "\n",
    "# In state 0, only allow consonants; in state 1, only allow vowels\n",
    "vowel_indices = torch.tensor([alphabet.index(letter) for letter in \"aeiou\"])\n",
    "consonant_indices = torch.tensor([alphabet.index(letter) for letter in \"bcdfghjklmnpqrstvwxyz\"])\n",
    "model.emission_model.unnormalized_emission_matrix[0, vowel_indices] = -np.inf\n",
    "model.emission_model.unnormalized_emission_matrix[1, consonant_indices] = -np.inf \n",
    "print(\"Emission matrix:\", torch.nn.functional.softmax(model.emission_model.unnormalized_emission_matrix, dim=1))\n",
    "\n",
    "# Only allow vowel -> consonant and consonant -> vowel\n",
    "model.transition_model.unnormalized_transition_matrix[0,0] = -np.inf  # consonant -> consonant\n",
    "model.transition_model.unnormalized_transition_matrix[0,1] = 0.       # vowel -> consonant\n",
    "model.transition_model.unnormalized_transition_matrix[1,0] = 0.       # consonant -> vowel\n",
    "model.transition_model.unnormalized_transition_matrix[1,1] = -np.inf  # vowel -> vowel\n",
    "print(\"Transition matrix:\", torch.nn.functional.softmax(model.transition_model.unnormalized_transition_matrix, dim=0))\n",
    "\n"
   ]
  },
  {
   "cell_type": "markdown",
   "metadata": {
    "id": "KFaYq8jDttmi"
   },
   "source": [
    "**TODO 1: Try sampling from our hard-coded model.**\n",
    "\n",
    "\n",
    "Sampled outputs should have the form of: <br>\n",
    "```\n",
    "x: adarituhij\n",
    "z: [1, 0, 1, 0, 1, 0, 1, 0, 1, 0]\n",
    "```\n",
    "\n"
   ]
  },
  {
   "cell_type": "code",
   "execution_count": 5,
   "metadata": {
    "id": "8latFMD7ua0X"
   },
   "outputs": [
    {
     "name": "stdout",
     "output_type": "stream",
     "text": [
      "x: pokodekofo\n",
      "z: [0, 1, 0, 1, 0, 1, 0, 1, 0, 1]\n",
      "\n",
      "x: jovozigasi\n",
      "z: [0, 1, 0, 1, 0, 1, 0, 1, 0, 1]\n",
      "\n",
      "x: losisozaso\n",
      "z: [0, 1, 0, 1, 0, 1, 0, 1, 0, 1]\n",
      "\n"
     ]
    }
   ],
   "source": [
    "# Sample at least 3 pairs of (x, z) outputs\n",
    "##############################################################################\n",
    "#                          IMPLEMENT YOUR CODE                               #\n",
    "##############################################################################\n",
    "\n",
    "for i in range(3):\n",
    "    (x, z) = model.sample()\n",
    "    print(f\"x: {decode(x)}\")\n",
    "    print(f\"z: {z}\")\n",
    "    print()\n",
    "\n",
    "##############################################################################\n",
    "#                          END OF YOUR CODE                                  #\n",
    "##############################################################################"
   ]
  },
  {
   "cell_type": "markdown",
   "metadata": {
    "id": "hKzlTlfRgZod"
   },
   "source": [
    "## Problem 2. The Three Problems\n",
    "\n",
    "The \"three problems\" that need to be solved before you can effectively use an HMM are:\n",
    "- Problem 1: How do we efficiently compute $p(\\mathbf{x})$?\n",
    "- Problem 2: How do we find the most likely state sequence $\\mathbf{z}$ that could have generated the data? \n",
    "- Problem 3: How do we train the model?\n",
    "\n",
    "In the rest of the notebook, we will see how to solve each problem and implement the solutions in PyTorch."
   ]
  },
  {
   "cell_type": "markdown",
   "metadata": {
    "id": "v_RfIAnmN2RZ"
   },
   "source": [
    "### Problem 2-1. How do we compute $p(\\mathbf{x})$?"
   ]
  },
  {
   "cell_type": "markdown",
   "metadata": {
    "id": "Z3zUUYH0giKV"
   },
   "source": [
    "\n",
    "#### *Why?*\n",
    "Why might we care about computing $p(\\mathbf{x})$? Here's two reasons.\n",
    "* Given two HMMs, $\\theta_1$ and $\\theta_2$, we can compute the likelihood of some data $\\mathbf{x}$ under each model, $p_{\\theta_1}(\\mathbf{x})$ and $p_{\\theta_2}(\\mathbf{x})$, to decide which model is a better fit to the data. \n",
    "\n",
    "  (For example, given an HMM for English speech and an HMM for French speech, we could compute the likelihood given each model, and pick the model with the higher likelihood to infer whether the person is speaking English or French.)\n",
    "* Being able to compute $p(\\mathbf{x})$ gives us a way to train the model, as we will see later.\n",
    "\n",
    "#### *How?*\n",
    "Given that we want $p(\\mathbf{x})$, how do we compute it?\n",
    "\n",
    "We've assumed that the data is generated by visiting some sequence of states $\\mathbf{z}$ and picking an output $x_t$ for each $z_t$ from the emission distribution $p(x_t|z_t)$. So if we knew $\\mathbf{z}$, then the probability of $\\mathbf{x}$ could be computed as follows:\n",
    "\n",
    "$$p(\\mathbf{x}|\\mathbf{z}) = \\prod_{t} p(x_t|z_t) p(z_t|z_{t-1})$$\n",
    "\n",
    "However, we don't know $\\mathbf{z}$; it's hidden. But we do know the probability of any given $\\mathbf{z}$, independent of what we observe. So we could get the probability of $\\mathbf{x}$ by summing over the different possibilities for $\\mathbf{z}$, like this:\n",
    "\n",
    "$$p(\\mathbf{x}) = \\sum_{\\mathbf{z}} p(\\mathbf{x}|\\mathbf{z}) p(\\mathbf{z}) = \\sum_{\\mathbf{z}} p(\\mathbf{z}) \\prod_{t} p(x_t|z_t) p(z_t|z_{t-1})$$\n",
    "\n",
    "The problem is: if you try to take that sum directly, you will need to compute $N^T$ terms. This is impossible to do for anything but very short sequences. For example, let's say the sequence is of length $T=100$ and there are $N=2$ possible states. Then we would need to check $N^T = 2^{100} \\approx 10^{30}$ different possible state sequences.\n",
    "\n",
    "We need a way to compute $p(\\mathbf{x})$ that doesn't require us to explicitly calculate all $N^T$ terms. For this, we use the forward algorithm."
   ]
  },
  {
   "cell_type": "markdown",
   "metadata": {
    "id": "DrH0YdUAhS6J"
   },
   "source": [
    "________\n",
    "\n",
    "<u><b>The Forward Algorithm</b></u>\n",
    "\n",
    "> for $s=1 \\rightarrow N$:\\\n",
    "> &nbsp;&nbsp;&nbsp;&nbsp;&nbsp;&nbsp;$\\alpha_{s,1} := b_s(x_1) \\cdot \\pi_s$ \n",
    "> \n",
    "> for $t = 2 \\rightarrow T$:\\\n",
    "> &nbsp;&nbsp;&nbsp;&nbsp;&nbsp;&nbsp;for $s = 1 \\rightarrow N$:\\\n",
    "> &nbsp;&nbsp;&nbsp;&nbsp;&nbsp;&nbsp;&nbsp;&nbsp;&nbsp;&nbsp;&nbsp;&nbsp;\n",
    "> $\\alpha_{s,t} := b_s(x_t) \\cdot \\underset{s'}{\\sum} A_{s, s'} \\cdot \\alpha_{s',t-1} $\n",
    "> \n",
    "> $p(\\mathbf{x}) := \\underset{s}{\\sum} \\alpha_{s,T}$\\\n",
    "> return $p(\\mathbf{x})$\n",
    "________\n"
   ]
  },
  {
   "cell_type": "markdown",
   "metadata": {
    "id": "bAdpwRiMn8Vn"
   },
   "source": [
    "The forward algorithm is much faster than enumerating all $N^T$ possible state sequences: it requires only $O(N^2T)$ operations to run, since each step is mostly multiplying the vector of forward variables by the transition matrix. (And very often we can reduce that complexity even further, if the transition matrix is sparse.)\n",
    "\n",
    "There is one practical problem with the forward algorithm as presented above: it is prone to underflow due to multiplying a long chain of small numbers, since probabilities are always between 0 and 1. Instead, let's do everything in the log domain. In the log domain, a multiplication becomes a sum, and a sum becomes a ${\\text{logsumexp}}$.\n",
    "\n",
    "Let $x \\in \\mathbb{R}^n$, ${\\text{logsumexp}} (x)$ is defined as:\n",
    "\n",
    "$${\\text{logsumexp}} (x) = \\log (\\sum_{i} \\exp (x_i)).$$\n",
    "\n",
    "Numerically, ${\\text{logsumexp}}$ is similar to ${\\max}$: in fact, it’s sometimes called the “smooth maximum” function. For example:\n",
    "\n",
    "$$\\max ([1, 2, 3]) = 3 $$\n",
    "$${\\text{logsumexp}} ([1, 2, 3]) = 3.4076$$"
   ]
  },
  {
   "cell_type": "markdown",
   "metadata": {
    "id": "FZ8VsLFxA3iT"
   },
   "source": [
    "________\n",
    "\n",
    "<u><b>The Forward Algorithm (Log Domain)</b></u>\n",
    "\n",
    "> for $s=1 \\rightarrow N$:\\\n",
    "> &nbsp;&nbsp;&nbsp;&nbsp;&nbsp;&nbsp;$\\text{log }\\alpha_{s,1} := \\text{log }b_s(x_1) + \\text{log }\\pi_s$ \n",
    "> \n",
    "> for $t = 2 \\rightarrow T$:\\\n",
    "> &nbsp;&nbsp;&nbsp;&nbsp;&nbsp;&nbsp;for $s = 1 \\rightarrow N$:\\\n",
    "> &nbsp;&nbsp;&nbsp;&nbsp;&nbsp;&nbsp;&nbsp;&nbsp;&nbsp;&nbsp;&nbsp;&nbsp;\n",
    "> $\\text{log }\\alpha_{s,t} := \\text{log }b_s(x_t) +  \\underset{s'}{\\text{logsumexp}} \\left( \\text{log }A_{s, s'} + \\text{log }\\alpha_{s',t-1} \\right)$\n",
    "> \n",
    "> $\\text{log }p(\\mathbf{x}) := \\underset{s}{\\text{logsumexp}} \\left( \\text{log }\\alpha_{s,T} \\right)$\\\n",
    "> return $\\text{log }p(\\mathbf{x})$\n",
    "________"
   ]
  },
  {
   "cell_type": "markdown",
   "metadata": {
    "id": "g55ik6ZCEiJU"
   },
   "source": [
    "**TODO 2**: Now that we have a numerically stable version of the forward algorithm, let's implement it in PyTorch. "
   ]
  },
  {
   "cell_type": "code",
   "execution_count": 6,
   "metadata": {
    "id": "3CMdK1EfE1SJ"
   },
   "outputs": [],
   "source": [
    "def HMM_forward(self, x, T):\n",
    "  \"\"\"\n",
    "  x : IntTensor of shape (batch size, T_max)\n",
    "  T : IntTensor of shape (batch size)\n",
    "\n",
    "  Compute log p(x) for each example in the batch.\n",
    "  T = length of each example\n",
    "  \"\"\"\n",
    "  ##############################################################################\n",
    "  #                          IMPLEMENT YOUR CODE                               #\n",
    "  ##############################################################################\n",
    "  \n",
    "  if self.is_cuda:\n",
    "    x = x.cuda()\n",
    "    T = T.cuda()\n",
    "    \n",
    "  log_alpha_matrix = torch.zeros(self.N, x.shape[1], x.shape[0])\n",
    "    # tensor[state, step_num, example_index] = alpha_value\n",
    "  if self.is_cuda: \n",
    "    log_alpha_matrix = log_alpha_matrix.cuda()\n",
    "  \n",
    "  log_pi = torch.nn.functional.log_softmax(self.unnormalized_state_priors, dim=0)  # tensor[state] = probability\n",
    "  log_pi_matrix = torch.stack([log_pi for i in range (x.shape[0])], dim=1)  #tensor[state, example_index] = probability\n",
    "  observation_0th = x[:, 0]  # tensor[example_nth] = observation\n",
    "  log_b_x1 = self.emission_model(observation_0th)  # tensor[state, example_index] = log_normalized_prob\n",
    "  log_alpha_matrix[:, 0, :] = log_b_x1 + log_pi_matrix  # tensor[state, example_index] = log_normalized_prob\n",
    "\n",
    "  for t in range(1, x.shape[1]):\n",
    "    log_b_xt = self.emission_model(x[:, t])  # tensor[state, example_index] = log_prob_to_emit_xt_at_t_th_step\n",
    "    logsumexp_t = self.transition_model(log_alpha_matrix[:, t-1, :])\n",
    "      # tensor[state, example_index] = log_prob_to_become_state_at_t_th_step\n",
    "    log_alpha_matrix[:, t, :] = log_b_xt + logsumexp_t\n",
    "      # tensor[state, example_index] = log_prob_to_become_state_and_emit_xt_at_t_th_step\n",
    "  \n",
    "  log_px = log_alpha_matrix.logsumexp(dim=0)  # tensor[step_num, example_index] = log_px\n",
    "  last_steps = torch.tensor([[index.item() for index in T - 1]])\n",
    "  if self.is_cuda:\n",
    "    last_steps = last_steps.cuda()\n",
    "\n",
    "  log_probs = torch.gather(log_px, 0, last_steps)\n",
    "\n",
    "  ##############################################################################\n",
    "  #                          END OF YOUR CODE                                  #\n",
    "  ##############################################################################\n",
    "  return log_probs\n",
    "\n",
    "def emission_model_forward(self, x_t):\n",
    "  ##############################################################################\n",
    "  #                          IMPLEMENT YOUR CODE                               #\n",
    "  ##############################################################################\n",
    "\n",
    "  # x_t : tensor[example_index] = observation\n",
    "  \n",
    "  normalized_emission_matrix = torch.nn.functional.log_softmax(self.unnormalized_emission_matrix, dim=1)\n",
    "  # matrix[state, observation] = log_normalized_prob\n",
    "                                        \n",
    "  selected_prob_matrix = normalized_emission_matrix[:, x_t]\n",
    "  # matrix[state, example_index] = log_normalized_prob\n",
    "  \n",
    "  out = selected_prob_matrix\n",
    "  # matrix[state, example_index] = log_normalized_prob\n",
    "\n",
    "  ##############################################################################\n",
    "  #                          END OF YOUR CODE                                  #\n",
    "  ##############################################################################\n",
    "  return out\n",
    "\n",
    "def transition_model_forward(self, log_alpha):\n",
    "  \"\"\"\n",
    "  log_alpha : Tensor of shape (batch size, N)\n",
    "  Multiply previous timestep's alphas by transition matrix (in log domain)\n",
    "  \"\"\"\n",
    "  ##############################################################################\n",
    "  #                          IMPLEMENT YOUR CODE                               #\n",
    "  ##############################################################################\n",
    "  \n",
    "  A_ss = self.unnormalized_transition_matrix  # tensor[state_before, state_after] = unnormalized_prob\n",
    "  log_A_ss = torch.nn.functional.log_softmax(A_ss, dim=0)\n",
    "  out = log_domain_matmul(log_A_ss, log_alpha)\n",
    "  \n",
    "  ##############################################################################\n",
    "  #                          END OF YOUR CODE                                  #\n",
    "  ##############################################################################\n",
    "  return out\n",
    "\n",
    "def log_domain_matmul(log_A, log_B):\n",
    "\t\"\"\"\n",
    "\tlog_A : m x n\n",
    "\tlog_B : n x p\n",
    "\toutput : m x p matrix\n",
    "\n",
    "\tNormally, a matrix multiplication\n",
    "\tcomputes out_{i,j} = sum_k A_{i,k} x B_{k,j}\n",
    "\n",
    "\tA log domain matrix multiplication\n",
    "\tcomputes out_{i,j} = logsumexp_k log_A_{i,k} + log_B_{k,j}\n",
    "\t\"\"\"\n",
    "\tm = log_A.shape[0]\n",
    "\tn = log_A.shape[1]\n",
    "\tp = log_B.shape[1]\n",
    "\n",
    "\t# log_A_expanded = torch.stack([log_A] * p, dim=2)\n",
    "\t# log_B_expanded = torch.stack([log_B] * m, dim=0)\n",
    "    # fix for PyTorch > 1.5 by egaznep on Github:\n",
    "\tlog_A_expanded = torch.reshape(log_A, (m,n,1))\n",
    "\tlog_B_expanded = torch.reshape(log_B, (1,n,p))\n",
    "\n",
    "\telementwise_sum = log_A_expanded + log_B_expanded\n",
    "\tout = torch.logsumexp(elementwise_sum, dim=1)\n",
    "\n",
    "\treturn out\n",
    "\n",
    "TransitionModel.forward = transition_model_forward\n",
    "EmissionModel.forward = emission_model_forward\n",
    "HMM.forward = HMM_forward"
   ]
  },
  {
   "cell_type": "markdown",
   "metadata": {
    "id": "y-fNnZfqGb1m"
   },
   "source": [
    "Try running the forward algorithm on our vowels/consonants model from before:"
   ]
  },
  {
   "cell_type": "code",
   "execution_count": 7,
   "metadata": {
    "id": "8rMAmf-UGhbw"
   },
   "outputs": [
    {
     "name": "stdout",
     "output_type": "stream",
     "text": [
      "tensor([[-10.8189]], device='cuda:0')\n",
      "tensor([[-11.9535,     -inf]], device='cuda:0')\n"
     ]
    }
   ],
   "source": [
    "x = torch.stack( [torch.tensor(encode(\"cat\"))] )\n",
    "T = torch.tensor([3])\n",
    "print(model.forward(x, T))\n",
    "\n",
    "x = torch.stack( [torch.tensor(encode(\"aba\")), torch.tensor(encode(\"abb\"))] )\n",
    "T = torch.tensor([3,3])\n",
    "print(model.forward(x, T))"
   ]
  },
  {
   "cell_type": "markdown",
   "metadata": {
    "id": "95TB2gvNHuLn"
   },
   "source": [
    "When using the vowel <-> consonant HMM from above, notice that the forward algorithm returns $-\\infty$ for $\\mathbf{x} = ``\\text{abb\"}$. That's because our transition matrix says the probability of vowel -> vowel and consonant -> consonant is 0, so the probability of $``\\text{abb\"}$ happening is 0, and thus the log probability is $-\\infty$."
   ]
  },
  {
   "cell_type": "markdown",
   "metadata": {
    "id": "qBCrFobsEM8X"
   },
   "source": [
    "#### *Side note: deriving the forward algorithm*\n",
    "\n",
    "If you're interested in understanding how the forward algorithm actually computes $p(\\mathbf{x})$, read this section; if not, skip to the next part on \"Problem 2\" (finding the most likely state sequence)."
   ]
  },
  {
   "cell_type": "markdown",
   "metadata": {
    "id": "CpHWWKcxhjkx"
   },
   "source": [
    "\n",
    "\n",
    "To derive the forward algorithm, start by deriving the forward variable:\n",
    "\n",
    "$\n",
    "\\begin{align} \n",
    "    \\alpha_{s,t} &= p(x_1, x_2, \\dots, x_t, z_t=s) \\\\\n",
    "     &= p(x_t | x_1, x_2, \\dots, x_{t-1}, z_t = s) \\cdot p(x_1, x_2, \\dots, x_{t-1}, z_t = s)  \\\\ \n",
    "    &= p(x_t | z_t = s) \\cdot p(x_1, x_2, \\dots, x_{t-1}, z_t = s) \\\\\n",
    "    &= p(x_t | z_t = s) \\cdot \\left( \\sum_{s'} p(x_1, x_2, \\dots, x_{t-1}, z_{t-1}=s', z_t = s) \\right)\\\\\n",
    "    &= p(x_t | z_t = s) \\cdot \\left( \\sum_{s'} p(z_t = s | x_1, x_2, \\dots, x_{t-1}, z_{t-1}=s') \\cdot p(x_1, x_2, \\dots, x_{t-1}, z_{t-1}=s') \\right)\\\\\n",
    "    &= \\underbrace{p(x_t | z_t = s)}_{\\text{emission model}} \\cdot \\left( \\sum_{s'} \\underbrace{p(z_t = s | z_{t-1}=s')}_{\\text{transition model}} \\cdot \\underbrace{p(x_1, x_2, \\dots, x_{t-1}, z_{t-1}=s')}_{\\text{forward variable for previous timestep}} \\right)\\\\\n",
    "    &= b_s(x_t) \\cdot \\left( \\sum_{s'} A_{s, s'} \\cdot \\alpha_{s',t-1} \\right)\n",
    "\\end{align}\n",
    "$\n",
    "\n",
    "I'll explain how to get to each line of this equation from the previous line. \n",
    "\n",
    "Line 1 is the definition of the forward variable $\\alpha_{s,t}$.\n",
    "\n",
    "Line 2 is the chain rule ($p(A,B) = p(A|B) \\cdot p(B)$, where $A$ is $x_t$ and $B$ is all the other variables).\n",
    "\n",
    "In Line 3, we apply Assumption 2: the probability of observation $x_t$ depends only on the current state $z_t$.\n",
    "\n",
    "In Line 4, we marginalize over all the possible states in the previous timestep $t-1$.\n",
    "\n",
    "In Line 5, we apply the chain rule again.\n",
    "\n",
    "In Line 6, we apply Assumption 1: the current state depends only on the previous state.\n",
    "\n",
    "In Line 7, we substitute in the emission probability, the transition probability, and the forward variable for the previous timestep, to get the complete recursion."
   ]
  },
  {
   "cell_type": "markdown",
   "metadata": {
    "id": "kh1ovNjWDbIA"
   },
   "source": [
    "The formula above can be used for $t = 2 \\rightarrow T$. At $t=1$, there is no previous state, so instead of the transition matrix $A$, we use the state priors $\\pi$, which tell us the probability of starting in each state. Thus for $t=1$, the forward variables are computed as follows:\n",
    "\n",
    "$$\\begin{align} \n",
    "\\alpha_{s,1} &= p(x_1, z_1=s) \\\\\n",
    "  &= p(x_1 | z_1 = s) \\cdot p(z_1 = s)  \\\\ \n",
    "&= b_s(x_1) \\cdot \\pi_s\n",
    "\\end{align}$$"
   ]
  },
  {
   "cell_type": "markdown",
   "metadata": {
    "id": "RRzSqkRkEWKX"
   },
   "source": [
    "Finally, to compute $p(\\mathbf{x}) = p(x_1, x_2, \\dots, x_T)$, we marginalize over $\\alpha_{s,T}$, the forward variables computed in the last timestep:\n",
    "\n",
    "$$\\begin{align*} \n",
    "p(\\mathbf{x}) &= \\sum_{s} p(x_1, x_2, \\dots, x_T, z_T = s) \\\\ \n",
    "&= \\sum_{s} \\alpha_{s,T}\n",
    "\\end{align*}$$"
   ]
  },
  {
   "cell_type": "markdown",
   "metadata": {
    "id": "qLBU8Iu7I5Tb"
   },
   "source": [
    "You can get from this formulation to the log domain formulation by taking the log of the forward variable, and using these identities:\n",
    "- $\\text{log }(a \\cdot b) = \\text{log }a + \\text{log }b$\n",
    "- $\\text{log }(a + b) = \\text{log }(e^{\\text{log }a} + e^{\\text{log }b}) = \\text{logsumexp}(\\text{log }a, \\text{log }b)$"
   ]
  },
  {
   "cell_type": "markdown",
   "metadata": {
    "id": "bxivzF8hgpiW"
   },
   "source": [
    "### Problem 2-2. How do we compute $\\underset{\\mathbf{z}}{\\text{argmax }} p(\\mathbf{z}|\\mathbf{x})$?"
   ]
  },
  {
   "cell_type": "markdown",
   "metadata": {
    "id": "c1Kv2yyiN7SX"
   },
   "source": [
    "Given an observation sequence $\\mathbf{x}$, we may want to find the most likely sequence of states that could have generated $\\mathbf{x}$. (Given the sequence of selfies, we want to infer what cities the friend visited.) In other words, we want $\\underset{\\mathbf{z}}{\\text{argmax }} p(\\mathbf{z}|\\mathbf{x})$.\n",
    "\n",
    "We can use Bayes' rule to rewrite this expression:\n",
    "$$\\begin{align*} \n",
    "    \\underset{\\mathbf{z}}{\\text{argmax }} p(\\mathbf{z}|\\mathbf{x}) &= \\underset{\\mathbf{z}}{\\text{argmax }} \\frac{p(\\mathbf{x}|\\mathbf{z}) p(\\mathbf{z})}{p(\\mathbf{x})} \\\\ \n",
    "    &= \\underset{\\mathbf{z}}{\\text{argmax }} p(\\mathbf{x}|\\mathbf{z}) p(\\mathbf{z})\n",
    "\\end{align*}$$\n",
    "\n",
    "Hmm! That last expression, $\\underset{\\mathbf{z}}{\\text{argmax }} p(\\mathbf{x}|\\mathbf{z}) p(\\mathbf{z})$, looks suspiciously similar to the intractable expression we encountered before introducing the forward algorithm, $\\underset{\\mathbf{z}}{\\sum} p(\\mathbf{x}|\\mathbf{z}) p(\\mathbf{z})$.\n",
    "\n",
    "And indeed, just as the intractable *sum* over all $\\mathbf{z}$ can be implemented efficiently using the forward algorithm, so too this intractable *argmax* can be implemented efficiently using a similar divide-and-conquer algorithm: the legendary Viterbi algorithm!"
   ]
  },
  {
   "cell_type": "markdown",
   "metadata": {
    "id": "niKZEX5xWeWR"
   },
   "source": [
    "________\n",
    "\n",
    "<u><b>The Viterbi Algorithm</b></u>\n",
    "\n",
    "> for $s=1 \\rightarrow N$:\\\n",
    "> &nbsp;&nbsp;&nbsp;&nbsp;&nbsp;&nbsp;$\\delta_{s,1} := b_s(x_1) \\cdot \\pi_s$\\\n",
    "> &nbsp;&nbsp;&nbsp;&nbsp;&nbsp;&nbsp;$\\psi_{s,1} := 0$\n",
    ">\n",
    "> for $t = 2 \\rightarrow T$:\\\n",
    "> &nbsp;&nbsp;&nbsp;&nbsp;&nbsp;&nbsp;for $s = 1 \\rightarrow N$:\\\n",
    "> &nbsp;&nbsp;&nbsp;&nbsp;&nbsp;&nbsp;&nbsp;&nbsp;&nbsp;&nbsp;&nbsp;&nbsp;$\\delta_{s,t} := b_s(x_t) \\cdot \\left( \\underset{s'}{\\text{max }} A_{s, s'} \\cdot \\delta_{s',t-1} \\right)$\\\n",
    "&nbsp;&nbsp;&nbsp;&nbsp;&nbsp;&nbsp;&nbsp;&nbsp;&nbsp;&nbsp;&nbsp;&nbsp;$\\psi_{s,t} := \\underset{s'}{\\text{argmax }} A_{s, s'} \\cdot \\delta_{s',t-1}$\n",
    "> \n",
    "> $z_T^* := \\underset{s}{\\text{argmax }} \\delta_{s,T}$\\\n",
    "> for $t = T-1 \\rightarrow 1$:\\\n",
    "&nbsp;&nbsp;&nbsp;&nbsp;&nbsp;&nbsp;$z_{t}^* := \\psi_{z_{t+1}^*,t+1}$\n",
    "> \n",
    "> $\\mathbf{z}^* := \\{z_{1}^*, \\dots, z_{T}^* \\}$\\\n",
    "return $\\mathbf{z}^*$\n",
    "________"
   ]
  },
  {
   "cell_type": "markdown",
   "metadata": {
    "id": "UcHVTCucZV6K"
   },
   "source": [
    "The Viterbi algorithm looks somewhat gnarlier than the forward algorithm, but it is essentially the same algorithm, with two tweaks: 1) instead of taking the sum over previous states, we take the max; and 2) we record the argmax of the previous states in a table, and loop back over this table at the end to get $\\mathbf{z}^*$, the most likely state sequence. (And like the forward algorithm, we should run the Viterbi algorithm in the log domain for better numerical stability.) "
   ]
  },
  {
   "cell_type": "markdown",
   "metadata": {
    "id": "NlN7IY_JZ5A-"
   },
   "source": [
    "**TODO 3**: Let's add the Viterbi algorithm to our PyTorch model:"
   ]
  },
  {
   "cell_type": "code",
   "execution_count": 8,
   "metadata": {
    "id": "qeDG8DVmZ-P0"
   },
   "outputs": [],
   "source": [
    "def viterbi(self, x, T):\n",
    "  \"\"\"\n",
    "  x : IntTensor of shape (batch size, T_max)\n",
    "  T : IntTensor of shape (batch size)\n",
    "  Find argmax_z log p(x|z) for each (x) in the batch.\n",
    "  \"\"\"\n",
    "  ##############################################################################\n",
    "  #                          IMPLEMENT YOUR CODE                               #\n",
    "  ##############################################################################\n",
    "  \n",
    "  if self.is_cuda:\n",
    "    x = x.cuda()\n",
    "    T = T.cuda()\n",
    "  \n",
    "  log_delta_matrix = torch.zeros(self.N, x.shape[1], x.shape[0])\n",
    "    # tensor[state, step_num, example_index] = max_prob_of_sequence_until_step\n",
    "  psi_matrix = torch.zeros(self.N, x.shape[1], x.shape[0]).long()\n",
    "    # tensor[state, step_num, example_index] = prior_state_maximizing_delta\n",
    "  if self.is_cuda:\n",
    "    log_delta_matrix = log_delta_matrix.cuda()\n",
    "    psi_matrix = psi_matrix.cuda()\n",
    "\n",
    "  ### STEP 0 ###\n",
    "  log_pi = torch.nn.functional.log_softmax(self.unnormalized_state_priors, dim=0)  # tensor[state] = probability\n",
    "  log_pi_matrix = torch.stack([log_pi for i in range (x.shape[0])], dim=1)  #tensor[state, example_index] = probability\n",
    "  observation_0th = x[:, 0]  # tensor[example_nth] = observation\n",
    "  log_b_x1 = self.emission_model(observation_0th)  # tensor[state, example_index] = log_normalized_prob\n",
    "  log_delta_matrix[:, 0, :] = log_b_x1 + log_pi_matrix  # tensor[state, example_index] = log_normalized_prob\n",
    "  \n",
    "  psi_matrix[:, 0, :] = torch.zeros(self.N, x.shape[0])\n",
    "    \n",
    "    \n",
    "  ### STEP 2~T ###\n",
    "  for t in range(1, x.shape[1]):  # for each steps\n",
    "    log_b_xt = self.emission_model(x[:, t])  # tensor[state, example_index] = log_prob_to_emit_xt_at_t_th_step\n",
    "    max_transition, argmax_transition = self.transition_model.maxmul(log_delta_matrix[:, t-1, :].transpose(0, 1))\n",
    "    max_transition = max_transition.transpose(0, 1)\n",
    "    argmax_transition = argmax_transition.transpose(0, 1)\n",
    "      # max_transition: tensor[example_index]\n",
    "      # argmax_transition: tensor[example_index]\n",
    "    log_delta_matrix[:, t, :] = log_b_xt + max_transition\n",
    "    psi_matrix[:, t, :] = argmax_transition\n",
    "    \n",
    "  log_max = log_delta_matrix.max(dim=0)[0]  # tensor[step_num, example_index] = max_value_full_matrix\n",
    "\n",
    "  z_star = []\n",
    "  for i in range(0, x.shape[0]):  # for each example\n",
    "    log_delta_i = log_delta_matrix[:, 0:T[i], i]  # tensor[state, step_num] = delta_value\n",
    "    maximizing_state_last = log_delta_i[:, -1].max(dim=0)[1].item()\n",
    "    z_star_i = [maximizing_state_last]\n",
    "    \n",
    "    for step in range(T[i]-1, 0, -1):  # for each step (reverse)\n",
    "      z_star_i.append(psi_matrix[z_star_i[-1], step, i].item())\n",
    "    \n",
    "    z_star_i = list(reversed(z_star_i))\n",
    "    z_star.append(z_star_i)\n",
    "  \n",
    "  last_steps = torch.tensor([[index.item() for index in T - 1]])\n",
    "  if self.is_cuda:\n",
    "    last_steps = last_steps.cuda()\n",
    "\n",
    "  best_path_scores = torch.gather(log_max, 0, last_steps)\n",
    "\n",
    "  ##############################################################################\n",
    "  #                          END OF YOUR CODE                                  #\n",
    "  ##############################################################################\n",
    "  return z_star, best_path_scores # return both the best path and its log probability\n",
    "\n",
    "def transition_model_maxmul(self, log_alpha):\n",
    "  log_transition_matrix = torch.nn.functional.log_softmax(self.unnormalized_transition_matrix, dim=0)\n",
    "\n",
    "  out1, out2 = maxmul(log_transition_matrix, log_alpha.transpose(0,1))\n",
    "  return out1.transpose(0,1), out2.transpose(0,1)\n",
    "\n",
    "def maxmul(log_A, log_B):\n",
    "\t\"\"\"\n",
    "\tlog_A : m x n\n",
    "\tlog_B : n x p\n",
    "\toutput : m x p matrix\n",
    "\n",
    "\tSimilar to the log domain matrix multiplication,\n",
    "\tthis computes out_{i,j} = max_k log_A_{i,k} + log_B_{k,j}\n",
    "\t\"\"\"\n",
    "\tm = log_A.shape[0]\n",
    "\tn = log_A.shape[1]\n",
    "\tp = log_B.shape[1]\n",
    "\n",
    "\tlog_A_expanded = torch.stack([log_A] * p, dim=2)\n",
    "\tlog_B_expanded = torch.stack([log_B] * m, dim=0)\n",
    "\n",
    "\telementwise_sum = log_A_expanded + log_B_expanded\n",
    "\tout1,out2 = torch.max(elementwise_sum, dim=1)\n",
    "\n",
    "\treturn out1,out2\n",
    "\n",
    "TransitionModel.maxmul = transition_model_maxmul\n",
    "HMM.viterbi = viterbi"
   ]
  },
  {
   "cell_type": "markdown",
   "metadata": {
    "id": "uTGOaeXbaWie"
   },
   "source": [
    "Try running Viterbi on an input sequence, given the vowel/consonant HMM:"
   ]
  },
  {
   "cell_type": "code",
   "execution_count": 9,
   "metadata": {
    "id": "zeOTbaIMc23d"
   },
   "outputs": [
    {
     "name": "stdout",
     "output_type": "stream",
     "text": [
      "([[1, 0, 1], [1, 0, 0]], tensor([[-11.9535,     -inf]], device='cuda:0'))\n"
     ]
    }
   ],
   "source": [
    "x = torch.stack( [torch.tensor(encode(\"aba\")), torch.tensor(encode(\"abb\"))] )\n",
    "T = torch.tensor([3,3])\n",
    "print(model.viterbi(x, T))"
   ]
  },
  {
   "cell_type": "markdown",
   "metadata": {
    "id": "fKr8YlafdzBx"
   },
   "source": [
    "For $\\mathbf{x} = ``\\text{aba\"}$, the Viterbi algorithm returns $\\mathbf{z}^* = \\{1,0,1\\}$. This corresponds to \"vowel, consonant, vowel\" according to the way we defined the states above, which is correct for this input sequence. Yay!\n",
    "\n",
    "For $\\mathbf{x} = ``\\text{abb\"}$, the Viterbi algorithm still returns a $\\mathbf{z}^*$, but we know this is gibberish because \"vowel, consonant, consonant\" is impossible under this HMM, and indeed the log probability of this path is $-\\infty$."
   ]
  },
  {
   "cell_type": "markdown",
   "metadata": {
    "id": "nCWw0_WienO_"
   },
   "source": [
    "### Problem 2-3. Comparison: Forward vs. Viterbi\n",
    "\n",
    "1. **TODO 4**: Compare the \"forward score\" (the log probability of all possible paths, returned by the forward algorithm) with the \"Viterbi score\" (the log probability of the maximum likelihood path, returned by the Viterbi algorithm). You can print out model's outputs. And please explain the result below."
   ]
  },
  {
   "cell_type": "code",
   "execution_count": 10,
   "metadata": {
    "id": "L9fBOHvdeqWC",
    "scrolled": true
   },
   "outputs": [
    {
     "name": "stdout",
     "output_type": "stream",
     "text": [
      "forward score: tensor([[-11.9535,     -inf]], device='cuda:0')\n",
      "Viterbi score: tensor([[-11.9535,     -inf]], device='cuda:0')\n"
     ]
    }
   ],
   "source": [
    "##############################################################################\n",
    "#                          IMPLEMENT YOUR CODE                               #\n",
    "##############################################################################\n",
    "\n",
    "### FORWARD SCORE ###\n",
    "forward_score = model.forward(x, T)\n",
    "print(\"forward score:\", forward_score)\n",
    "\n",
    "### VITERBI SCORE ###\n",
    "_, viterbi_score = model.viterbi(x, T)\n",
    "print(\"Viterbi score:\", viterbi_score)\n",
    "\n",
    "\n",
    "##############################################################################\n",
    "#                          END OF YOUR CODE                                  #\n",
    "##############################################################################"
   ]
  },
  {
   "cell_type": "markdown",
   "metadata": {
    "id": "1MZhZFyNX0go"
   },
   "source": [
    "\n",
    "2. **Explanation for TODO 4**:<br>\n",
    "forward score와 Viterbi score의 값이 동일하게 나타났다. 이는 2-1에서 설명했듯이 logsumexp 함수는 smooth maximum 함수라고 불릴 정도로 max와 비슷한 성질을 갖기 때문이다.\n"
   ]
  },
  {
   "cell_type": "markdown",
   "metadata": {
    "id": "SvFtiWhzgy0V"
   },
   "source": [
    "### Problem 2-4. How do we train the model?\n",
    "\n",
    "\n",
    "\n"
   ]
  },
  {
   "cell_type": "markdown",
   "metadata": {
    "id": "r3JaykRalSBZ"
   },
   "source": [
    "Earlier, we hard-coded an HMM to have certain behavior. What we would like to do instead is have the HMM learn to model the data on its own. And while it is possible to use supervised learning with an HMM (by hard-coding the emission model or the transition model) so that the states have a particular interpretation, the really cool thing about HMMs is that they are naturally unsupervised learners, so they can learn to use their different states to represent different patterns in the data, without the programmer needing to indicate what each state means."
   ]
  },
  {
   "cell_type": "markdown",
   "metadata": {
    "id": "8K471fT4N-PR"
   },
   "source": [
    "Like many machine learning models, an HMM can be trained using maximum likelihood estimation, i.e.:\n",
    "\n",
    "$$\\theta^* = \\underset{\\theta}{\\text{argmin }} -\\sum_{\\mathbf{x}^i}\\text{log }p_{\\theta}(\\mathbf{x}^i)$$\n",
    "\n",
    "where $\\mathbf{x}^1, \\mathbf{x}^2, \\dots$ are training examples. \n",
    "\n",
    "The standard method for doing this is the Expectation-Maximization (EM) algorithm, which for HMMs is also called the \"Baum-Welch\" algorithm. In EM training, we alternate between an \"E-step\", where we estimate the values of the latent variables, and an \"M-step\", where the model parameters are updated given the estimated latent variables. (Think $k$-means, where you guess which cluster each data point belongs to, then reestimate where the clusters are, and repeat.) The EM algorithm has some nice properties: it is guaranteed at each step to decrease the loss function, and the E-step and M-step may have an exact closed form solution, in which case no pesky learning rates are required.\n",
    "\n",
    "But because the HMM forward algorithm is differentiable with respect to all the model parameters, we can also just take advantage of automatic differentiation methods in libraries like PyTorch and try to minimize $-\\text{log }p_{\\theta}(\\mathbf{x})$ directly, by backpropagating through the forward algorithm and running stochastic gradient descent. That means we don't need to write any additional HMM code to implement training: `loss.backward()` is all you need."
   ]
  },
  {
   "cell_type": "markdown",
   "metadata": {
    "id": "aVh0-369qZDC"
   },
   "source": [
    "Here we will implement SGD training for an HMM in PyTorch. First, some helper classes:"
   ]
  },
  {
   "cell_type": "code",
   "execution_count": 11,
   "metadata": {
    "id": "KqiFobGHwdzc"
   },
   "outputs": [],
   "source": [
    "import torch.utils.data\n",
    "from collections import Counter\n",
    "from sklearn.model_selection import train_test_split\n",
    "\n",
    "class TextDataset(torch.utils.data.Dataset):\n",
    "  def __init__(self, lines):\n",
    "    self.lines = lines # list of strings\n",
    "    collate = Collate() # function for generating a minibatch from strings\n",
    "    self.loader = torch.utils.data.DataLoader(self, batch_size=1024, num_workers=1, shuffle=True, collate_fn=collate)\n",
    "\n",
    "  def __len__(self):\n",
    "    return len(self.lines)\n",
    "\n",
    "  def __getitem__(self, idx):\n",
    "    line = self.lines[idx].lstrip(\" \").rstrip(\"\\n\").rstrip(\" \").rstrip(\"\\n\")\n",
    "    return line\n",
    "\n",
    "class Collate:\n",
    "  def __init__(self):\n",
    "    pass\n",
    "\n",
    "  def __call__(self, batch):\n",
    "    \"\"\"\n",
    "    Returns a minibatch of strings, padded to have the same length.\n",
    "    \"\"\"\n",
    "    x = []\n",
    "    batch_size = len(batch)\n",
    "    for index in range(batch_size):\n",
    "      x_ = batch[index]\n",
    "\n",
    "      # convert letters to integers\n",
    "      x.append(encode(x_))\n",
    "\n",
    "    # pad all sequences with 0 to have same length\n",
    "    x_lengths = [len(x_) for x_ in x]\n",
    "    T = max(x_lengths)\n",
    "    for index in range(batch_size):\n",
    "      x[index] += [0] * (T - len(x[index]))\n",
    "      x[index] = torch.tensor(x[index])\n",
    "\n",
    "    # stack into single tensor\n",
    "    x = torch.stack(x)\n",
    "    x_lengths = torch.tensor(x_lengths)\n",
    "    return (x,x_lengths)"
   ]
  },
  {
   "cell_type": "markdown",
   "metadata": {
    "id": "YpDpwnPnAEA9"
   },
   "source": [
    "Let's load some training/testing data. By default, this will use the unix \"words\" file, but you could also use your own text file."
   ]
  },
  {
   "cell_type": "markdown",
   "metadata": {
    "id": "LsZDnW2OHT-T"
   },
   "source": [
    "Execute the following 2 cells if you are using Google Colab, otherwise just skip. Rename the statement after `cd` with your current directory (e.g. `cd /content/drive/your/current/directory/`). Refer to Assignment1's data loading sceme if you have troubles."
   ]
  },
  {
   "cell_type": "code",
   "execution_count": 13,
   "metadata": {
    "id": "52NqFHg8ANsB"
   },
   "outputs": [],
   "source": [
    "filename = \"hmm_training.txt\"\n",
    "\n",
    "with open(filename, \"r\") as f:\n",
    "  lines = f.readlines() # each line of lines will have one word\n",
    "\n",
    "alphabet = list(Counter((\"\".join(lines))).keys())\n",
    "train_lines, valid_lines = train_test_split(lines, test_size=0.1, random_state=42)\n",
    "train_dataset = TextDataset(train_lines)\n",
    "valid_dataset = TextDataset(valid_lines)\n",
    "\n",
    "M = len(alphabet)"
   ]
  },
  {
   "cell_type": "markdown",
   "metadata": {
    "id": "H0AqmyrK7IUn"
   },
   "source": [
    "We will use a Trainer class for training and testing the model:\n",
    "\n"
   ]
  },
  {
   "cell_type": "code",
   "execution_count": 14,
   "metadata": {
    "id": "iypy_neX9cpq"
   },
   "outputs": [],
   "source": [
    "from tqdm import tqdm # for displaying progress bar\n",
    "\n",
    "class Trainer:\n",
    "  def __init__(self, model, lr):\n",
    "    self.model = model\n",
    "    self.lr = lr\n",
    "    self.optimizer = torch.optim.Adam(model.parameters(), lr=self.lr, weight_decay=0.00001)\n",
    "  \n",
    "  def train(self, dataset):\n",
    "    train_loss = 0\n",
    "    num_samples = 0\n",
    "    self.model.train()\n",
    "    print_interval = 50\n",
    "    for idx, batch in enumerate(tqdm(dataset.loader)):\n",
    "      x,T = batch\n",
    "      batch_size = len(x)\n",
    "      num_samples += batch_size\n",
    "      log_probs = self.model(x,T)\n",
    "      loss = -log_probs.mean()\n",
    "      self.optimizer.zero_grad()\n",
    "      loss.backward()\n",
    "      self.optimizer.step()\n",
    "      train_loss += loss.cpu().data.numpy().item() * batch_size\n",
    "      if idx % print_interval == 0:\n",
    "        print(\"loss:\", loss.item())\n",
    "        for _ in range(5):\n",
    "          sampled_x, sampled_z = self.model.sample()\n",
    "          print(decode(sampled_x))\n",
    "          print(sampled_z)\n",
    "    train_loss /= num_samples\n",
    "    return train_loss\n",
    "\n",
    "  def test(self, dataset):\n",
    "    test_loss = 0\n",
    "    num_samples = 0\n",
    "    self.model.eval()\n",
    "    print_interval = 50\n",
    "    for idx, batch in enumerate(tqdm(dataset.loader)):\n",
    "      x,T = batch\n",
    "      batch_size = len(x)\n",
    "      num_samples += batch_size\n",
    "      log_probs = self.model(x,T)\n",
    "      loss = -log_probs.mean()\n",
    "      test_loss += loss.cpu().data.numpy().item() * batch_size\n",
    "      if idx % print_interval == 0:\n",
    "        print(\"loss:\", loss.item())\n",
    "        sampled_x, sampled_z = self.model.sample()\n",
    "        print(decode(sampled_x))\n",
    "        print(sampled_z)\n",
    "    test_loss /= num_samples\n",
    "    return test_loss"
   ]
  },
  {
   "cell_type": "markdown",
   "metadata": {
    "id": "mUR8qbHm9dMg"
   },
   "source": [
    "Finally, initialize the model and run the main training loop. Every 50 batches, the code will produce a few samples from the model. Over time, these samples should look more and more realistic."
   ]
  },
  {
   "cell_type": "code",
   "execution_count": 15,
   "metadata": {
    "id": "1-NGIK1Q9g2C"
   },
   "outputs": [
    {
     "name": "stderr",
     "output_type": "stream",
     "text": [
      "\r\n",
      "  0%|                                                                                           | 0/208 [00:00<?, ?it/s]"
     ]
    },
    {
     "name": "stdout",
     "output_type": "stream",
     "text": [
      "========= Epoch 1 of 10 =========\n",
      "loss: 37.93347930908203\n",
      "atdnJFrDuZ\n",
      "[62, 58, 34, 37, 12, 21, 15, 23, 46, 55]\n",
      "FC\n",
      "DgLJCR\n",
      "\n",
      "[8, 4, 54, 57, 4, 60, 42, 27, 58, 29]\n",
      "fiRqmVPHsz\n",
      "[53, 52, 24, 36, 17, 27, 39, 56, 59, 58]\n",
      "OIvuzQaaCH\n",
      "[46, 55, 60, 44, 10, 24, 15, 16, 11, 47]\n",
      "KmUBETlDfk\n"
     ]
    },
    {
     "name": "stderr",
     "output_type": "stream",
     "text": [
      "\r\n",
      "  0%|▍                                                                                  | 1/208 [00:01<04:13,  1.23s/it]"
     ]
    },
    {
     "name": "stdout",
     "output_type": "stream",
     "text": [
      "[26, 2, 20, 10, 56, 62, 10, 48, 24, 27]\n"
     ]
    },
    {
     "name": "stderr",
     "output_type": "stream",
     "text": [
      " 25%|████████████████████                                                              | 51/208 [00:21<01:12,  2.15it/s]"
     ]
    },
    {
     "name": "stdout",
     "output_type": "stream",
     "text": [
      "loss: 33.362674713134766\n",
      "PpyrlNsmaU\n",
      "[59, 22, 37, 48, 37, 55, 20, 12, 28, 16]\n",
      "lf-Iriehjm\n",
      "[29, 7, 27, 25, 51, 4, 42, 14, 30, 9]\n",
      "dVjgYeqtLt\n",
      "[25, 57, 47, 52, 48, 18, 4, 28, 31, 1]\n",
      "iYdTrVpxTo\n",
      "[47, 7, 48, 5, 48, 25, 58, 25, 51, 28]\n",
      "riTmsFunWs\n",
      "[15, 19, 62, 40, 18, 27, 4, 0, 1, 42]\n"
     ]
    },
    {
     "name": "stderr",
     "output_type": "stream",
     "text": [
      " 49%|███████████████████████████████████████▎                                         | 101/208 [00:43<00:51,  2.06it/s]"
     ]
    },
    {
     "name": "stdout",
     "output_type": "stream",
     "text": [
      "loss: 30.17218017578125\n",
      "Hulnrlaewa\n",
      "[4, 28, 23, 26, 55, 26, 38, 4, 0, 17]\n",
      "tyirvCszZo\n",
      "[14, 2, 25, 48, 34, 36, 1, 44, 58, 25]\n",
      "acRrhuoter\n",
      "[26, 9, 43, 19, 37, 32, 47, 52, 55, 45]\n",
      "FgdnlnnOma\n",
      "[48, 22, 58, 47, 19, 47, 20, 49, 29, 52]\n",
      "qDoDWrtcpr\n",
      "[59, 30, 37, 57, 52, 7, 17, 38, 45, 15]\n"
     ]
    },
    {
     "name": "stderr",
     "output_type": "stream",
     "text": [
      " 73%|██████████████████████████████████████████████████████████▊                      | 151/208 [01:04<00:26,  2.16it/s]"
     ]
    },
    {
     "name": "stdout",
     "output_type": "stream",
     "text": [
      "loss: 28.440284729003906\n",
      "lbnanemmWi\n",
      "[60, 55, 40, 38, 23, 49, 4, 28, 15, 26]\n",
      "ieLZmnaacn\n",
      "[25, 48, 28, 36, 61, 53, 47, 26, 2, 0]\n",
      "t\n",
      "rrdslets\n",
      "[59, 31, 4, 28, 20, 39, 26, 30, 57, 39]\n",
      "nroaensuhp\n",
      "[53, 52, 45, 39, 47, 20, 25, 48, 28, 45]\n",
      "rraDtrATun\n",
      "[33, 7, 52, 55, 40, 23, 49, 37, 33, 20]\n"
     ]
    },
    {
     "name": "stderr",
     "output_type": "stream",
     "text": [
      " 97%|██████████████████████████████████████████████████████████████████████████████▎  | 201/208 [01:24<00:03,  2.21it/s]"
     ]
    },
    {
     "name": "stdout",
     "output_type": "stream",
     "text": [
      "loss: 26.915843963623047\n",
      "-adaieKoUi\n",
      "[13, 33, 1, 38, 5, 27, 49, 39, 57, 47]\n",
      "HUaYpegite\n",
      "[59, 30, 19, 63, 55, 47, 20, 38, 23, 49]\n",
      "CcbLi\n",
      "etaW\n",
      "[42, 24, 44, 58, 47, 51, 49, 48, 38, 45]\n",
      "sBeerlqdli\n",
      "[20, 38, 23, 49, 29, 42, 61, 53, 52, 4]\n",
      "heexrapboa\n",
      "[13, 49, 29, 30, 4, 28, 45, 4, 28, 26]\n"
     ]
    },
    {
     "name": "stderr",
     "output_type": "stream",
     "text": [
      "100%|█████████████████████████████████████████████████████████████████████████████████| 208/208 [01:26<00:00,  2.39it/s]\n",
      "  4%|███▌                                                                                | 1/24 [00:00<00:06,  3.52it/s]"
     ]
    },
    {
     "name": "stdout",
     "output_type": "stream",
     "text": [
      "loss: 26.91913604736328\n",
      "corioUdasv\n",
      "[4, 28, 48, 47, 40, 23, 57, 49, 4, 28]\n"
     ]
    },
    {
     "name": "stderr",
     "output_type": "stream",
     "text": [
      "100%|███████████████████████████████████████████████████████████████████████████████████| 24/24 [00:04<00:00,  4.80it/s]\n",
      "  0%|                                                                                           | 0/208 [00:00<?, ?it/s]"
     ]
    },
    {
     "name": "stdout",
     "output_type": "stream",
     "text": [
      "========= Results: epoch 1 of 10 =========\n",
      "train loss: 30.93| valid loss: 26.88\n",
      "\n",
      "========= Epoch 2 of 10 =========\n"
     ]
    },
    {
     "name": "stderr",
     "output_type": "stream",
     "text": [
      "\r\n",
      "  0%|▍                                                                                  | 1/208 [00:00<02:05,  1.65it/s]"
     ]
    },
    {
     "name": "stdout",
     "output_type": "stream",
     "text": [
      "loss: 26.947811126708984\n",
      "punlistinZ\n",
      "[59, 33, 39, 26, 49, 18, 58, 38, 23, 34]\n",
      "olifrirwre\n",
      "[32, 19, 47, 20, 23, 49, 29, 35, 19, 47]\n",
      "uegimxtaQi\n",
      "[59, 0, 20, 34, 20, 49, 53, 33, 50, 49]\n",
      "nulTlefero\n",
      "[20, 34, 26, 2, 19, 28, 41, 49, 4, 30]\n",
      "tusungtitm\n",
      "[59, 33, 39, 33, 1, 18, 23, 47, 56, 6]\n"
     ]
    },
    {
     "name": "stderr",
     "output_type": "stream",
     "text": [
      " 25%|████████████████████                                                              | 51/208 [00:20<01:08,  2.30it/s]"
     ]
    },
    {
     "name": "stdout",
     "output_type": "stream",
     "text": [
      "loss: 25.805343627929688\n",
      "cyresaarog\n",
      "[60, 49, 29, 49, 39, 13, 33, 48, 47, 2]\n",
      "atrlnyapry\n",
      "[33, 56, 4, 38, 26, 2, 52, 45, 4, 28]\n",
      "btetimalyc\n",
      "[59, 48, 47, 56, 47, 20, 30, 19, 28, 15]\n",
      "htssAlrmae\n",
      "[4, 28, 39, 56, 62, 15, 37, 61, 27, 49]\n",
      "d-dssholyl\n",
      "[60, 49, 29, 39, 56, 4, 28, 26, 2, 19]\n"
     ]
    },
    {
     "name": "stderr",
     "output_type": "stream",
     "text": [
      " 49%|███████████████████████████████████████▎                                         | 101/208 [00:40<00:47,  2.24it/s]"
     ]
    },
    {
     "name": "stdout",
     "output_type": "stream",
     "text": [
      "loss: 24.907054901123047\n",
      "noulninaee\n",
      "[58, 37, 33, 26, 20, 47, 20, 47, 55, 47]\n",
      "uthelinelo\n",
      "[33, 56, 57, 49, 26, 47, 20, 30, 19, 28]\n",
      "icgemaican\n",
      "[47, 20, 15, 49, 29, 38, 23, 58, 38, 23]\n",
      "Selisteyec\n",
      "[13, 49, 29, 47, 39, 57, 49, 43, 30, 40]\n",
      "cemigajoho\n",
      "[13, 49, 29, 28, 22, 49, 29, 30, 4, 28]\n"
     ]
    },
    {
     "name": "stderr",
     "output_type": "stream",
     "text": [
      " 73%|██████████████████████████████████████████████████████████▊                      | 151/208 [01:00<00:27,  2.09it/s]"
     ]
    },
    {
     "name": "stdout",
     "output_type": "stream",
     "text": [
      "loss: 24.81900978088379\n",
      "hontiskalr\n",
      "[59, 49, 39, 57, 47, 56, 16, 38, 26, 19]\n",
      "ardressDou\n",
      "[14, 48, 57, 4, 49, 39, 56, 58, 37, 33]\n",
      "bogersoter\n",
      "[60, 34, 45, 49, 4, 28, 37, 20, 49, 23]\n",
      "vunisissry\n",
      "[60, 47, 20, 47, 56, 47, 39, 56, 4, 28]\n",
      "sorateropl\n",
      "[13, 37, 48, 28, 56, 49, 29, 28, 45, 19]\n"
     ]
    },
    {
     "name": "stderr",
     "output_type": "stream",
     "text": [
      " 96%|█████████████████████████████████████████████████████████████████████████████▉   | 200/208 [01:21<00:03,  2.37it/s]"
     ]
    },
    {
     "name": "stdout",
     "output_type": "stream",
     "text": [
      "loss: 24.465797424316406\n",
      "tgicmatyon\n",
      "[20, 15, 47, 56, 16, 38, 23, 2, 34, 20]\n",
      "pecdustimb\n",
      "[45, 49, 40, 4, 49, 39, 57, 47, 52, 50]\n",
      "cFrchicvon\n",
      "[43, 52, 45, 45, 4, 47, 20, 51, 28, 20]\n",
      "eorllahyut\n",
      "[13, 37, 29, 35, 19, 49, 4, 28, 33, 23]\n"
     ]
    },
    {
     "name": "stderr",
     "output_type": "stream",
     "text": [
      "\r\n",
      " 97%|██████████████████████████████████████████████████████████████████████████████▎  | 201/208 [01:21<00:03,  2.07it/s]"
     ]
    },
    {
     "name": "stdout",
     "output_type": "stream",
     "text": [
      "ulleduario\n",
      "[33, 26, 19, 49, 29, 11, 38, 23, 58, 37]\n"
     ]
    },
    {
     "name": "stderr",
     "output_type": "stream",
     "text": [
      "100%|█████████████████████████████████████████████████████████████████████████████████| 208/208 [01:24<00:00,  2.47it/s]\n",
      "  4%|███▌                                                                                | 1/24 [00:00<00:06,  3.32it/s]"
     ]
    },
    {
     "name": "stdout",
     "output_type": "stream",
     "text": [
      "loss: 24.482797622680664\n",
      "ristmaniou\n",
      "[4, 47, 39, 56, 16, 38, 23, 58, 37, 33]\n"
     ]
    },
    {
     "name": "stderr",
     "output_type": "stream",
     "text": [
      "100%|███████████████████████████████████████████████████████████████████████████████████| 24/24 [00:04<00:00,  5.69it/s]\n",
      "  0%|                                                                                           | 0/208 [00:00<?, ?it/s]"
     ]
    },
    {
     "name": "stdout",
     "output_type": "stream",
     "text": [
      "========= Results: epoch 2 of 10 =========\n",
      "train loss: 25.37| valid loss: 24.67\n",
      "\n",
      "========= Epoch 3 of 10 =========\n"
     ]
    },
    {
     "name": "stderr",
     "output_type": "stream",
     "text": [
      "\r\n",
      "  0%|▍                                                                                  | 1/208 [00:00<02:42,  1.28it/s]"
     ]
    },
    {
     "name": "stdout",
     "output_type": "stream",
     "text": [
      "loss: 25.06744384765625\n",
      "aoucwongit\n",
      "[25, 37, 33, 23, 58, 37, 20, 15, 47, 20]\n",
      "photopenke\n",
      "[59, 4, 28, 20, 38, 45, 49, 39, 57, 47]\n",
      "faprisrocr\n",
      "[32, 49, 45, 4, 47, 56, 4, 28, 40, 4]\n",
      "kerinpitta\n",
      "[60, 49, 29, 47, 39, 13, 28, 45, 4, 28]\n",
      "hepypareni\n",
      "[4, 49, 29, 28, 45, 34, 4, 49, 39, 57]\n"
     ]
    },
    {
     "name": "stderr",
     "output_type": "stream",
     "text": [
      " 25%|████████████████████                                                              | 51/208 [00:20<01:16,  2.06it/s]"
     ]
    },
    {
     "name": "stdout",
     "output_type": "stream",
     "text": [
      "loss: 24.183761596679688\n",
      "lerFhaDtos\n",
      "[19, 49, 29, 45, 4, 49, 39, 57, 47, 56]\n",
      "sropusbogm\n",
      "[59, 48, 28, 45, 49, 29, 35, 30, 42, 20]\n",
      "heciargodo\n",
      "[4, 49, 18, 47, 38, 23, 15, 28, 20, 49]\n",
      "rereupeuyt\n",
      "[39, 57, 4, 28, 33, 45, 49, 43, 28, 45]\n",
      "decabsrino\n",
      "[60, 47, 20, 38, 50, 56, 4, 47, 20, 49]\n"
     ]
    },
    {
     "name": "stderr",
     "output_type": "stream",
     "text": [
      " 48%|██████████████████████████████████████▉                                          | 100/208 [00:43<00:40,  2.68it/s]"
     ]
    },
    {
     "name": "stdout",
     "output_type": "stream",
     "text": [
      "loss: 24.069293975830078\n",
      "eteasstesu\n",
      "[38, 57, 49, 38, 39, 56, 57, 49, 4, 49]\n",
      "wistinctat\n",
      "[45, 47, 39, 57, 47, 39, 13, 57, 38, 57]\n",
      "aubleredin\n",
      "[62, 33, 35, 19, 49, 29, 49, 29, 47, 20]\n",
      "miblgconee\n",
      "[13, 28, 35, 19, 28, 13, 37, 48, 28, 34]\n"
     ]
    },
    {
     "name": "stderr",
     "output_type": "stream",
     "text": [
      "\r\n",
      " 49%|███████████████████████████████████████▎                                         | 101/208 [00:43<00:48,  2.22it/s]"
     ]
    },
    {
     "name": "stdout",
     "output_type": "stream",
     "text": [
      "floderaded\n",
      "[32, 19, 47, 20, 49, 29, 38, 20, 49, 29]\n"
     ]
    },
    {
     "name": "stderr",
     "output_type": "stream",
     "text": [
      " 73%|██████████████████████████████████████████████████████████▊                      | 151/208 [01:08<00:28,  2.03it/s]"
     ]
    },
    {
     "name": "stdout",
     "output_type": "stream",
     "text": [
      "loss: 23.99982261657715\n",
      "sesslyoabi\n",
      "[59, 49, 39, 56, 19, 28, 30, 38, 35, 47]\n",
      "epugerinsh\n",
      "[34, 45, 28, 45, 49, 29, 38, 39, 56, 4]\n",
      "Baculerise\n",
      "[60, 47, 40, 30, 19, 49, 29, 47, 56, 49]\n",
      "weninerall\n",
      "[60, 34, 20, 47, 20, 49, 29, 38, 26, 19]\n",
      "znauermele\n",
      "[14, 48, 38, 55, 49, 29, 16, 30, 19, 49]\n"
     ]
    },
    {
     "name": "stderr",
     "output_type": "stream",
     "text": [
      " 97%|██████████████████████████████████████████████████████████████████████████████▎  | 201/208 [01:29<00:03,  2.16it/s]"
     ]
    },
    {
     "name": "stdout",
     "output_type": "stream",
     "text": [
      "loss: 24.239784240722656\n",
      "gostecionk\n",
      "[32, 49, 39, 57, 49, 23, 58, 37, 48, 20]\n",
      "lablegbeng\n",
      "[19, 38, 35, 19, 28, 15, 11, 47, 20, 15]\n",
      "descathyQd\n",
      "[60, 47, 39, 45, 38, 57, 4, 28, 2, 19]\n",
      "locourinil\n",
      "[4, 28, 13, 37, 33, 29, 47, 20, 30, 19]\n",
      "honicateaf\n",
      "[13, 37, 48, 47, 40, 38, 57, 49, 38, 23]\n"
     ]
    },
    {
     "name": "stderr",
     "output_type": "stream",
     "text": [
      "100%|█████████████████████████████████████████████████████████████████████████████████| 208/208 [01:32<00:00,  2.25it/s]\n",
      "  4%|███▌                                                                                | 1/24 [00:00<00:06,  3.32it/s]"
     ]
    },
    {
     "name": "stdout",
     "output_type": "stream",
     "text": [
      "loss: 24.2274112701416\n",
      "desetklana\n",
      "[59, 28, 56, 49, 23, 27, 19, 28, 20, 28]\n"
     ]
    },
    {
     "name": "stderr",
     "output_type": "stream",
     "text": [
      "100%|███████████████████████████████████████████████████████████████████████████████████| 24/24 [00:05<00:00,  4.66it/s]\n",
      "  0%|                                                                                           | 0/208 [00:00<?, ?it/s]"
     ]
    },
    {
     "name": "stdout",
     "output_type": "stream",
     "text": [
      "========= Results: epoch 3 of 10 =========\n",
      "train loss: 24.28| valid loss: 24.03\n",
      "\n",
      "========= Epoch 4 of 10 =========\n"
     ]
    },
    {
     "name": "stderr",
     "output_type": "stream",
     "text": [
      "\r\n",
      "  0%|▍                                                                                  | 1/208 [00:00<02:08,  1.61it/s]"
     ]
    },
    {
     "name": "stdout",
     "output_type": "stream",
     "text": [
      "loss: 23.750198364257812\n",
      "Blernorsin\n",
      "[59, 19, 49, 29, 20, 49, 29, 56, 47, 20]\n",
      "cynetenGok\n",
      "[13, 28, 20, 49, 57, 49, 23, 58, 37, 48]\n",
      "maptanious\n",
      "[16, 38, 39, 57, 49, 23, 58, 37, 33, 56]\n",
      "messmalipr\n",
      "[16, 49, 39, 56, 16, 38, 26, 47, 45, 4]\n",
      "cruleerrod\n",
      "[40, 4, 49, 19, 49, 34, 29, 4, 28, 57]\n"
     ]
    },
    {
     "name": "stderr",
     "output_type": "stream",
     "text": [
      " 24%|███████████████████▋                                                              | 50/208 [00:19<01:08,  2.31it/s]"
     ]
    },
    {
     "name": "stdout",
     "output_type": "stream",
     "text": [
      "loss: 23.60653305053711\n",
      "unenatiset\n",
      "[14, 48, 28, 20, 38, 57, 47, 56, 49, 40]\n",
      "intisnmpry\n",
      "[38, 23, 57, 47, 56, 58, 52, 45, 4, 28]\n",
      "veryerylat\n",
      "[60, 49, 29, 2, 49, 29, 2, 19, 38, 23]\n"
     ]
    },
    {
     "name": "stderr",
     "output_type": "stream",
     "text": [
      "\r\n",
      " 25%|████████████████████                                                              | 51/208 [00:20<01:23,  1.88it/s]"
     ]
    },
    {
     "name": "stdout",
     "output_type": "stream",
     "text": [
      "entiloaalr\n",
      "[25, 48, 57, 30, 19, 28, 34, 38, 26, 19]\n",
      "sianuoneri\n",
      "[56, 47, 38, 23, 47, 37, 7, 49, 29, 47]\n"
     ]
    },
    {
     "name": "stderr",
     "output_type": "stream",
     "text": [
      " 48%|██████████████████████████████████████▉                                          | 100/208 [00:42<00:49,  2.18it/s]"
     ]
    },
    {
     "name": "stdout",
     "output_type": "stream",
     "text": [
      "loss: 24.11054801940918\n",
      "Badetpanny\n",
      "[59, 38, 57, 49, 29, 45, 38, 48, 13, 28]\n",
      "tybermectt\n",
      "[59, 28, 61, 49, 29, 16, 49, 23, 57, 58]\n",
      "phidiankal\n",
      "[45, 4, 47, 57, 47, 38, 23, 57, 38, 23]\n",
      "phondentel\n",
      "[45, 24, 37, 48, 60, 49, 23, 57, 49, 19]\n"
     ]
    },
    {
     "name": "stderr",
     "output_type": "stream",
     "text": [
      "\r\n",
      " 49%|███████████████████████████████████████▎                                         | 101/208 [00:43<00:55,  1.94it/s]"
     ]
    },
    {
     "name": "stdout",
     "output_type": "stream",
     "text": [
      "adenesioau\n",
      "[34, 20, 47, 20, 47, 56, 58, 37, 52, 55]\n"
     ]
    },
    {
     "name": "stderr",
     "output_type": "stream",
     "text": [
      " 72%|██████████████████████████████████████████████████████████▍                      | 150/208 [01:04<00:25,  2.23it/s]"
     ]
    },
    {
     "name": "stdout",
     "output_type": "stream",
     "text": [
      "loss: 23.883575439453125\n",
      "sedialediv\n",
      "[60, 49, 29, 47, 38, 19, 49, 29, 47, 20]\n",
      "Ptlomancat\n",
      "[59, 57, 19, 28, 16, 38, 23, 40, 38, 57]\n",
      "eninewitli\n",
      "[34, 39, 47, 20, 49, 29, 47, 56, 4, 47]\n",
      "Erlmopenad\n",
      "[62, 29, 4, 4, 28, 45, 34, 20, 38, 29]\n"
     ]
    },
    {
     "name": "stderr",
     "output_type": "stream",
     "text": [
      "\r\n",
      " 73%|██████████████████████████████████████████████████████████▊                      | 151/208 [01:05<00:28,  2.00it/s]"
     ]
    },
    {
     "name": "stdout",
     "output_type": "stream",
     "text": [
      "untaticant\n",
      "[14, 48, 57, 38, 57, 47, 40, 38, 23, 57]\n"
     ]
    },
    {
     "name": "stderr",
     "output_type": "stream",
     "text": [
      " 96%|█████████████████████████████████████████████████████████████████████████████▉   | 200/208 [01:25<00:03,  2.34it/s]"
     ]
    },
    {
     "name": "stdout",
     "output_type": "stream",
     "text": [
      "loss: 23.542917251586914\n",
      "nelitermal\n",
      "[60, 49, 19, 28, 57, 49, 29, 11, 38, 26]\n",
      "dypaliculB\n",
      "[60, 28, 45, 38, 26, 47, 40, 30, 19, 60]\n",
      "immalploge\n",
      "[25, 52, 16, 38, 26, 45, 19, 28, 15, 34]\n",
      "Cusmaliniz\n",
      "[59, 33, 56, 16, 38, 26, 47, 20, 47, 20]\n"
     ]
    },
    {
     "name": "stderr",
     "output_type": "stream",
     "text": [
      "\r\n",
      " 97%|██████████████████████████████████████████████████████████████████████████████▎  | 201/208 [01:25<00:03,  2.00it/s]"
     ]
    },
    {
     "name": "stdout",
     "output_type": "stream",
     "text": [
      "crallemerm\n",
      "[45, 4, 38, 26, 19, 28, 16, 49, 29, 16]\n"
     ]
    },
    {
     "name": "stderr",
     "output_type": "stream",
     "text": [
      "100%|█████████████████████████████████████████████████████████████████████████████████| 208/208 [01:28<00:00,  2.34it/s]\n",
      "  4%|███▌                                                                                | 1/24 [00:00<00:06,  3.58it/s]"
     ]
    },
    {
     "name": "stdout",
     "output_type": "stream",
     "text": [
      "loss: 23.90590476989746\n",
      "sainanelin\n",
      "[59, 38, 25, 48, 34, 20, 49, 19, 47, 39]\n"
     ]
    },
    {
     "name": "stderr",
     "output_type": "stream",
     "text": [
      "100%|███████████████████████████████████████████████████████████████████████████████████| 24/24 [00:04<00:00,  5.27it/s]\n",
      "  0%|                                                                                           | 0/208 [00:00<?, ?it/s]"
     ]
    },
    {
     "name": "stdout",
     "output_type": "stream",
     "text": [
      "========= Results: epoch 4 of 10 =========\n",
      "train loss: 23.80| valid loss: 23.71\n",
      "\n",
      "========= Epoch 5 of 10 =========\n",
      "loss: 23.466705322265625\n",
      "Pattenosyl\n",
      "[59, 38, 23, 57, 49, 23, 28, 56, 30, 19]\n",
      "ramefectio\n",
      "[19, 28, 16, 49, 32, 49, 23, 57, 58, 37]\n",
      "totateance\n",
      "[45, 49, 57, 47, 57, 49, 38, 23, 57, 49]\n",
      "Cplengremo\n",
      "[59, 45, 4, 34, 20, 15, 19, 28, 16, 28]\n"
     ]
    },
    {
     "name": "stderr",
     "output_type": "stream",
     "text": [
      "\r\n",
      "  0%|▍                                                                                  | 1/208 [00:00<02:44,  1.25it/s]"
     ]
    },
    {
     "name": "stdout",
     "output_type": "stream",
     "text": [
      "unamblisto\n",
      "[14, 48, 38, 52, 35, 19, 47, 56, 57, 49]\n"
     ]
    },
    {
     "name": "stderr",
     "output_type": "stream",
     "text": [
      " 25%|████████████████████                                                              | 51/208 [00:21<01:19,  1.98it/s]"
     ]
    },
    {
     "name": "stdout",
     "output_type": "stream",
     "text": [
      "loss: 23.519554138183594\n",
      "itilpeskoi\n",
      "[38, 57, 30, 26, 20, 49, 39, 57, 28, 47]\n",
      "catoalelin\n",
      "[45, 38, 57, 49, 38, 19, 49, 19, 47, 20]\n",
      "Amondornos\n",
      "[62, 16, 37, 48, 60, 34, 29, 20, 49, 39]\n",
      "aeloxheank\n",
      "[62, 49, 19, 28, 56, 27, 49, 38, 23, 57]\n",
      "romabolmas\n",
      "[19, 28, 16, 34, 11, 38, 26, 16, 38, 39]\n"
     ]
    },
    {
     "name": "stderr",
     "output_type": "stream",
     "text": [
      " 49%|███████████████████████████████████████▎                                         | 101/208 [00:42<00:50,  2.11it/s]"
     ]
    },
    {
     "name": "stdout",
     "output_type": "stream",
     "text": [
      "loss: 23.526992797851562\n",
      "kwaterousy\n",
      "[27, 36, 38, 57, 49, 29, 37, 33, 56, 30]\n",
      "nhopchudat\n",
      "[45, 4, 34, 52, 45, 4, 33, 29, 38, 23]\n",
      "daneyroimm\n",
      "[60, 34, 20, 49, 2, 19, 28, 25, 52, 16]\n",
      "buberylyly\n",
      "[11, 33, 50, 49, 29, 2, 19, 28, 19, 28]\n",
      "obbexkeaea\n",
      "[34, 50, 22, 49, 29, 60, 47, 38, 31, 62]\n"
     ]
    },
    {
     "name": "stderr",
     "output_type": "stream",
     "text": [
      " 72%|██████████████████████████████████████████████████████████▍                      | 150/208 [01:04<00:26,  2.21it/s]"
     ]
    },
    {
     "name": "stdout",
     "output_type": "stream",
     "text": [
      "loss: 23.862524032592773\n",
      "ternoninil\n",
      "[45, 49, 29, 13, 34, 20, 47, 20, 47, 26]\n",
      "makrinalia\n",
      "[16, 38, 57, 4, 47, 20, 38, 26, 49, 38]\n",
      "dirmancarc\n",
      "[60, 25, 29, 16, 38, 23, 40, 38, 23, 57]\n",
      "clerydiari\n",
      "[45, 19, 49, 29, 28, 15, 47, 38, 29, 47]\n"
     ]
    },
    {
     "name": "stderr",
     "output_type": "stream",
     "text": [
      "\r\n",
      " 73%|██████████████████████████████████████████████████████████▊                      | 151/208 [01:05<00:29,  1.96it/s]"
     ]
    },
    {
     "name": "stdout",
     "output_type": "stream",
     "text": [
      "judizaline\n",
      "[13, 33, 29, 47, 20, 38, 26, 47, 20, 49]\n"
     ]
    },
    {
     "name": "stderr",
     "output_type": "stream",
     "text": [
      " 97%|██████████████████████████████████████████████████████████████████████████████▎  | 201/208 [01:28<00:03,  2.02it/s]"
     ]
    },
    {
     "name": "stdout",
     "output_type": "stream",
     "text": [
      "loss: 23.267141342163086\n",
      "chinespeci\n",
      "[45, 4, 47, 20, 49, 39, 45, 38, 57, 58]\n",
      "mertoondof\n",
      "[16, 49, 29, 45, 30, 37, 48, 63, 49, 32]\n",
      "uniphicyxo\n",
      "[14, 48, 47, 45, 4, 47, 40, 30, 29, 28]\n",
      "Carapfurot\n",
      "[59, 34, 29, 38, 52, 32, 30, 29, 28, 45]\n",
      "telismolis\n",
      "[4, 30, 19, 47, 56, 16, 30, 26, 47, 56]\n"
     ]
    },
    {
     "name": "stderr",
     "output_type": "stream",
     "text": [
      "100%|█████████████████████████████████████████████████████████████████████████████████| 208/208 [01:31<00:00,  2.28it/s]\n",
      "  4%|███▌                                                                                | 1/24 [00:00<00:06,  3.57it/s]"
     ]
    },
    {
     "name": "stdout",
     "output_type": "stream",
     "text": [
      "loss: 23.691875457763672\n",
      "pelleciali\n",
      "[45, 49, 19, 26, 47, 40, 47, 38, 26, 47]\n"
     ]
    },
    {
     "name": "stderr",
     "output_type": "stream",
     "text": [
      "100%|███████████████████████████████████████████████████████████████████████████████████| 24/24 [00:04<00:00,  5.48it/s]\n",
      "  0%|                                                                                           | 0/208 [00:00<?, ?it/s]"
     ]
    },
    {
     "name": "stdout",
     "output_type": "stream",
     "text": [
      "========= Results: epoch 5 of 10 =========\n",
      "train loss: 23.58| valid loss: 23.55\n",
      "\n",
      "========= Epoch 6 of 10 =========\n",
      "loss: 23.58856964111328\n",
      "Pirawanter\n",
      "[59, 30, 19, 28, 36, 38, 23, 57, 49, 23]\n",
      "bakwancato\n",
      "[60, 38, 27, 36, 38, 23, 40, 38, 57, 28]\n",
      "Eutolokidi\n",
      "[59, 33, 45, 30, 26, 47, 20, 47, 57, 47]\n",
      "pifraticat\n",
      "[45, 47, 32, 4, 34, 45, 47, 40, 38, 57]\n"
     ]
    },
    {
     "name": "stderr",
     "output_type": "stream",
     "text": [
      "\r\n",
      "  0%|▍                                                                                  | 1/208 [00:00<02:37,  1.31it/s]"
     ]
    },
    {
     "name": "stdout",
     "output_type": "stream",
     "text": [
      "unpessklob\n",
      "[14, 48, 45, 49, 39, 56, 27, 19, 28, 11]\n"
     ]
    },
    {
     "name": "stderr",
     "output_type": "stream",
     "text": [
      " 25%|████████████████████                                                              | 51/208 [00:21<01:18,  1.99it/s]"
     ]
    },
    {
     "name": "stdout",
     "output_type": "stream",
     "text": [
      "loss: 23.419239044189453\n",
      "canatowabl\n",
      "[40, 38, 48, 38, 57, 28, 36, 38, 35, 19]\n",
      "Cagricheng\n",
      "[59, 28, 45, 4, 47, 40, 27, 49, 20, 15]\n",
      "soBeratini\n",
      "[59, 34, 17, 49, 29, 38, 57, 47, 20, 47]\n",
      "actentursi\n",
      "[62, 23, 57, 49, 23, 57, 33, 29, 56, 58]\n",
      "pusErilifi\n",
      "[45, 33, 56, 27, 4, 47, 19, 47, 32, 30]\n"
     ]
    },
    {
     "name": "stderr",
     "output_type": "stream",
     "text": [
      " 48%|██████████████████████████████████████▉                                          | 100/208 [00:43<00:58,  1.85it/s]"
     ]
    },
    {
     "name": "stdout",
     "output_type": "stream",
     "text": [
      "loss: 23.347190856933594\n",
      "conbloetog\n",
      "[13, 37, 48, 32, 19, 28, 47, 57, 28, 15]\n",
      "prepialonc\n",
      "[45, 4, 28, 52, 47, 38, 26, 37, 48, 45]\n",
      "undwtolyst\n",
      "[14, 48, 63, 36, 56, 28, 19, 28, 39, 57]\n",
      "matroatium\n",
      "[16, 38, 57, 4, 28, 38, 57, 47, 43, 16]\n"
     ]
    },
    {
     "name": "stderr",
     "output_type": "stream",
     "text": [
      "\r\n",
      " 49%|███████████████████████████████████████▎                                         | 101/208 [00:44<01:00,  1.78it/s]"
     ]
    },
    {
     "name": "stdout",
     "output_type": "stream",
     "text": [
      "fleprublem\n",
      "[32, 4, 28, 45, 4, 33, 50, 19, 28, 16]\n"
     ]
    },
    {
     "name": "stderr",
     "output_type": "stream",
     "text": [
      " 72%|██████████████████████████████████████████████████████████▍                      | 150/208 [01:04<00:23,  2.51it/s]"
     ]
    },
    {
     "name": "stdout",
     "output_type": "stream",
     "text": [
      "loss: 23.321535110473633\n",
      "seryecriar\n",
      "[56, 49, 29, 28, 34, 45, 4, 47, 34, 29]\n",
      "pedarispte\n",
      "[45, 34, 45, 34, 29, 47, 56, 23, 57, 49]\n",
      "undercunto\n",
      "[14, 48, 63, 49, 29, 13, 37, 48, 57, 28]\n",
      "releraness\n",
      "[4, 28, 19, 49, 29, 28, 20, 49, 39, 56]\n"
     ]
    },
    {
     "name": "stderr",
     "output_type": "stream",
     "text": [
      "\r\n",
      " 73%|██████████████████████████████████████████████████████████▊                      | 151/208 [01:04<00:26,  2.17it/s]"
     ]
    },
    {
     "name": "stdout",
     "output_type": "stream",
     "text": [
      "mopabirger\n",
      "[16, 28, 45, 38, 35, 30, 29, 15, 49, 29]\n"
     ]
    },
    {
     "name": "stderr",
     "output_type": "stream",
     "text": [
      " 97%|██████████████████████████████████████████████████████████████████████████████▎  | 201/208 [01:25<00:03,  2.20it/s]"
     ]
    },
    {
     "name": "stdout",
     "output_type": "stream",
     "text": [
      "loss: 23.571243286132812\n",
      "ateKergroi\n",
      "[38, 57, 49, 0, 49, 29, 15, 4, 28, 47]\n",
      "conlidishi\n",
      "[13, 37, 48, 4, 47, 20, 47, 56, 27, 47]\n",
      "thZvalibli\n",
      "[45, 4, 28, 20, 38, 26, 47, 35, 19, 47]\n",
      "unkateress\n",
      "[14, 48, 16, 38, 57, 49, 29, 49, 39, 56]\n",
      "vexewPrtie\n",
      "[8, 49, 29, 28, 36, 3, 29, 57, 47, 49]\n"
     ]
    },
    {
     "name": "stderr",
     "output_type": "stream",
     "text": [
      "100%|█████████████████████████████████████████████████████████████████████████████████| 208/208 [01:28<00:00,  2.36it/s]\n",
      "  4%|███▌                                                                                | 1/24 [00:00<00:07,  3.25it/s]"
     ]
    },
    {
     "name": "stdout",
     "output_type": "stream",
     "text": [
      "loss: 23.2226619720459\n",
      "inacasicom\n",
      "[25, 48, 38, 57, 38, 56, 47, 40, 30, 16]\n"
     ]
    },
    {
     "name": "stderr",
     "output_type": "stream",
     "text": [
      "100%|███████████████████████████████████████████████████████████████████████████████████| 24/24 [00:05<00:00,  4.74it/s]\n",
      "  0%|                                                                                           | 0/208 [00:00<?, ?it/s]"
     ]
    },
    {
     "name": "stdout",
     "output_type": "stream",
     "text": [
      "========= Results: epoch 6 of 10 =========\n",
      "train loss: 23.45| valid loss: 23.44\n",
      "\n",
      "========= Epoch 7 of 10 =========\n"
     ]
    },
    {
     "name": "stderr",
     "output_type": "stream",
     "text": [
      "\r\n",
      "  0%|▍                                                                                  | 1/208 [00:00<02:15,  1.52it/s]"
     ]
    },
    {
     "name": "stdout",
     "output_type": "stream",
     "text": [
      "loss: 23.81060218811035\n",
      "sphomciana\n",
      "[56, 45, 4, 34, 52, 45, 47, 38, 48, 38]\n",
      "bletelyshe\n",
      "[35, 19, 28, 57, 49, 19, 31, 56, 27, 49]\n",
      "bafupralin\n",
      "[11, 34, 51, 33, 45, 4, 38, 26, 47, 20]\n",
      "pagistolys\n",
      "[45, 38, 15, 47, 56, 45, 30, 19, 31, 56]\n",
      "vichocense\n",
      "[60, 47, 40, 27, 28, 45, 49, 39, 56, 58]\n"
     ]
    },
    {
     "name": "stderr",
     "output_type": "stream",
     "text": [
      " 25%|████████████████████                                                              | 51/208 [00:23<01:19,  1.97it/s]"
     ]
    },
    {
     "name": "stdout",
     "output_type": "stream",
     "text": [
      "loss: 23.534061431884766\n",
      "peindydewr\n",
      "[45, 34, 25, 48, 63, 30, 29, 28, 45, 4]\n",
      "datkegican\n",
      "[60, 38, 56, 27, 28, 15, 47, 40, 38, 23]\n",
      "sustessode\n",
      "[59, 33, 56, 45, 49, 39, 56, 28, 63, 49]\n",
      "Labulveuma\n",
      "[60, 38, 35, 30, 26, 8, 49, 43, 16, 38]\n",
      "sogrisatte\n",
      "[56, 28, 15, 4, 47, 56, 38, 56, 57, 58]\n"
     ]
    },
    {
     "name": "stderr",
     "output_type": "stream",
     "text": [
      " 48%|██████████████████████████████████████▉                                          | 100/208 [00:45<00:48,  2.24it/s]"
     ]
    },
    {
     "name": "stdout",
     "output_type": "stream",
     "text": [
      "loss: 23.15882110595703\n",
      "protemontr\n",
      "[45, 4, 34, 45, 49, 60, 34, 23, 57, 4]\n",
      "Cesstiskas\n",
      "[59, 49, 39, 56, 57, 47, 56, 27, 38, 39]\n",
      "unginalati\n",
      "[14, 48, 15, 47, 20, 38, 26, 38, 57, 47]\n",
      "icturtitro\n",
      "[25, 23, 57, 30, 29, 45, 47, 57, 4, 28]\n"
     ]
    },
    {
     "name": "stderr",
     "output_type": "stream",
     "text": [
      "\r\n",
      " 49%|███████████████████████████████████████▎                                         | 101/208 [00:45<00:53,  1.99it/s]"
     ]
    },
    {
     "name": "stdout",
     "output_type": "stream",
     "text": [
      "paelogwalv\n",
      "[45, 38, 35, 19, 28, 10, 36, 38, 26, 8]\n"
     ]
    },
    {
     "name": "stderr",
     "output_type": "stream",
     "text": [
      " 72%|██████████████████████████████████████████████████████████▍                      | 150/208 [01:08<00:25,  2.23it/s]"
     ]
    },
    {
     "name": "stdout",
     "output_type": "stream",
     "text": [
      "loss: 23.601951599121094\n",
      "ardshetera\n",
      "[62, 29, 2, 56, 27, 47, 57, 49, 29, 28]\n",
      "noryemontk\n",
      "[4, 34, 29, 28, 34, 16, 37, 48, 45, 27]\n",
      "ssaturisty\n",
      "[59, 4, 38, 57, 30, 29, 47, 56, 57, 28]\n",
      "hacanitysc\n",
      "[4, 34, 40, 38, 48, 47, 57, 31, 56, 57]\n"
     ]
    },
    {
     "name": "stderr",
     "output_type": "stream",
     "text": [
      "\r\n",
      " 73%|██████████████████████████████████████████████████████████▊                      | 151/208 [01:08<00:29,  1.96it/s]"
     ]
    },
    {
     "name": "stdout",
     "output_type": "stream",
     "text": [
      "culichtici\n",
      "[32, 30, 26, 47, 40, 27, 57, 47, 40, 47]\n"
     ]
    },
    {
     "name": "stderr",
     "output_type": "stream",
     "text": [
      " 96%|█████████████████████████████████████████████████████████████████████████████▉   | 200/208 [01:29<00:03,  2.21it/s]"
     ]
    },
    {
     "name": "stdout",
     "output_type": "stream",
     "text": [
      "loss: 23.398963928222656\n",
      "firetulpre\n",
      "[32, 30, 29, 28, 45, 30, 26, 45, 4, 34]\n",
      "arithmeres\n",
      "[62, 29, 47, 57, 27, 17, 49, 29, 28, 56]\n",
      "unylimfess\n",
      "[14, 48, 28, 4, 28, 16, 53, 49, 39, 56]\n",
      "nentexedec\n",
      "[13, 34, 23, 57, 49, 29, 49, 2, 28, 45]\n"
     ]
    },
    {
     "name": "stderr",
     "output_type": "stream",
     "text": [
      "\r\n",
      " 97%|██████████████████████████████████████████████████████████████████████████████▎  | 201/208 [01:30<00:03,  1.95it/s]"
     ]
    },
    {
     "name": "stdout",
     "output_type": "stream",
     "text": [
      "surtomutor\n",
      "[59, 33, 29, 45, 28, 16, 30, 57, 30, 29]\n"
     ]
    },
    {
     "name": "stderr",
     "output_type": "stream",
     "text": [
      "100%|█████████████████████████████████████████████████████████████████████████████████| 208/208 [01:32<00:00,  2.24it/s]\n",
      "  4%|███▌                                                                                | 1/24 [00:00<00:05,  4.05it/s]"
     ]
    },
    {
     "name": "stdout",
     "output_type": "stream",
     "text": [
      "loss: 23.466144561767578\n",
      "dichteropl\n",
      "[60, 47, 40, 27, 4, 28, 4, 34, 45, 4]\n"
     ]
    },
    {
     "name": "stderr",
     "output_type": "stream",
     "text": [
      "100%|███████████████████████████████████████████████████████████████████████████████████| 24/24 [00:04<00:00,  5.26it/s]\n",
      "  0%|                                                                                           | 0/208 [00:00<?, ?it/s]"
     ]
    },
    {
     "name": "stdout",
     "output_type": "stream",
     "text": [
      "========= Results: epoch 7 of 10 =========\n",
      "train loss: 23.36| valid loss: 23.36\n",
      "\n",
      "========= Epoch 8 of 10 =========\n",
      "loss: 23.44412612915039\n",
      "liataleted\n",
      "[60, 47, 38, 57, 38, 26, 47, 57, 49, 2]\n",
      "morierteus\n",
      "[16, 30, 29, 47, 49, 23, 57, 28, 33, 56]\n",
      "Faneansici\n",
      "[60, 38, 20, 49, 38, 48, 56, 47, 40, 30]\n",
      "unitolally\n",
      "[14, 48, 47, 57, 30, 26, 38, 26, 19, 31]\n"
     ]
    },
    {
     "name": "stderr",
     "output_type": "stream",
     "text": [
      "\r\n",
      "  0%|▍                                                                                  | 1/208 [00:00<02:59,  1.15it/s]"
     ]
    },
    {
     "name": "stdout",
     "output_type": "stream",
     "text": [
      "vesstarswe\n",
      "[8, 49, 39, 56, 57, 38, 29, 56, 36, 49]\n"
     ]
    },
    {
     "name": "stderr",
     "output_type": "stream",
     "text": [
      " 25%|████████████████████                                                              | 51/208 [00:23<01:25,  1.84it/s]"
     ]
    },
    {
     "name": "stdout",
     "output_type": "stream",
     "text": [
      "loss: 23.462913513183594\n",
      "argisedopr\n",
      "[62, 29, 15, 47, 56, 49, 29, 28, 45, 4]\n",
      "Bcialataes\n",
      "[59, 40, 47, 38, 26, 28, 45, 0, 49, 39]\n",
      "trampuntio\n",
      "[45, 4, 34, 52, 45, 33, 23, 57, 58, 37]\n",
      "ontessobly\n",
      "[34, 23, 57, 49, 39, 56, 28, 32, 4, 47]\n",
      "rocaxtimat\n",
      "[54, 28, 40, 38, 23, 57, 47, 16, 38, 57]\n"
     ]
    },
    {
     "name": "stderr",
     "output_type": "stream",
     "text": [
      " 49%|███████████████████████████████████████▎                                         | 101/208 [00:44<00:51,  2.06it/s]"
     ]
    },
    {
     "name": "stdout",
     "output_type": "stream",
     "text": [
      "loss: 23.096731185913086\n",
      "streiliaca\n",
      "[59, 45, 4, 28, 25, 26, 47, 38, 57, 38]\n",
      "oczidnerto\n",
      "[34, 23, 20, 47, 63, 0, 49, 29, 45, 34]\n",
      "unsiousphc\n",
      "[14, 48, 56, 58, 37, 33, 56, 45, 27, 45]\n",
      "Pedassterc\n",
      "[60, 28, 15, 62, 39, 56, 57, 49, 29, 40]\n",
      "rocantiouc\n",
      "[4, 28, 40, 38, 23, 57, 58, 37, 33, 40]\n"
     ]
    },
    {
     "name": "stderr",
     "output_type": "stream",
     "text": [
      " 73%|██████████████████████████████████████████████████████████▊                      | 151/208 [01:05<00:27,  2.04it/s]"
     ]
    },
    {
     "name": "stdout",
     "output_type": "stream",
     "text": [
      "loss: 23.868385314941406\n",
      "Ceplecoves\n",
      "[54, 28, 45, 4, 28, 13, 34, 8, 49, 23]\n",
      "unrismeamm\n",
      "[14, 48, 4, 47, 56, 16, 28, 34, 52, 16]\n",
      "bablymnala\n",
      "[11, 38, 35, 19, 31, 52, 20, 38, 26, 38]\n",
      "hofessmaui\n",
      "[4, 34, 8, 49, 39, 56, 16, 38, 23, 47]\n",
      "labblingry\n",
      "[60, 38, 35, 35, 19, 47, 20, 15, 4, 28]\n"
     ]
    },
    {
     "name": "stderr",
     "output_type": "stream",
     "text": [
      " 96%|█████████████████████████████████████████████████████████████████████████████▉   | 200/208 [01:26<00:03,  2.35it/s]"
     ]
    },
    {
     "name": "stdout",
     "output_type": "stream",
     "text": [
      "loss: 23.377769470214844\n",
      "wydubmermu\n",
      "[60, 31, 63, 33, 50, 22, 49, 29, 16, 30]\n",
      "liroseerew\n",
      "[60, 47, 4, 28, 56, 49, 49, 29, 28, 36]\n",
      "pronealaci\n",
      "[45, 4, 28, 20, 49, 38, 26, 38, 57, 47]\n",
      "asperchori\n",
      "[34, 56, 45, 49, 29, 45, 27, 30, 29, 25]\n"
     ]
    },
    {
     "name": "stderr",
     "output_type": "stream",
     "text": [
      "\r\n",
      " 97%|██████████████████████████████████████████████████████████████████████████████▎  | 201/208 [01:27<00:03,  2.01it/s]"
     ]
    },
    {
     "name": "stdout",
     "output_type": "stream",
     "text": [
      "matangores\n",
      "[16, 38, 57, 38, 20, 15, 49, 29, 28, 56]\n"
     ]
    },
    {
     "name": "stderr",
     "output_type": "stream",
     "text": [
      "100%|█████████████████████████████████████████████████████████████████████████████████| 208/208 [01:30<00:00,  2.31it/s]\n",
      "  4%|███▌                                                                                | 1/24 [00:00<00:07,  3.26it/s]"
     ]
    },
    {
     "name": "stdout",
     "output_type": "stream",
     "text": [
      "loss: 23.450878143310547\n",
      "shypyttusi\n",
      "[59, 27, 31, 52, 31, 23, 57, 33, 56, 47]\n"
     ]
    },
    {
     "name": "stderr",
     "output_type": "stream",
     "text": [
      "100%|███████████████████████████████████████████████████████████████████████████████████| 24/24 [00:03<00:00,  6.34it/s]\n",
      "  0%|                                                                                           | 0/208 [00:00<?, ?it/s]"
     ]
    },
    {
     "name": "stdout",
     "output_type": "stream",
     "text": [
      "========= Results: epoch 8 of 10 =========\n",
      "train loss: 23.28| valid loss: 23.30\n",
      "\n",
      "========= Epoch 9 of 10 =========\n"
     ]
    },
    {
     "name": "stderr",
     "output_type": "stream",
     "text": [
      "\r\n",
      "  0%|▍                                                                                  | 1/208 [00:00<02:26,  1.41it/s]"
     ]
    },
    {
     "name": "stdout",
     "output_type": "stream",
     "text": [
      "loss: 22.975656509399414\n",
      "skediumene\n",
      "[59, 27, 49, 2, 47, 43, 16, 49, 20, 28]\n",
      "pordregant\n",
      "[45, 30, 29, 2, 4, 34, 15, 38, 23, 57]\n",
      "cigundolae\n",
      "[45, 25, 42, 14, 48, 63, 38, 26, 0, 49]\n",
      "Congoincar\n",
      "[59, 34, 20, 15, 28, 25, 48, 40, 38, 23]\n",
      "pleldicatr\n",
      "[45, 4, 28, 26, 63, 47, 40, 38, 57, 4]\n"
     ]
    },
    {
     "name": "stderr",
     "output_type": "stream",
     "text": [
      " 24%|███████████████████▋                                                              | 50/208 [00:21<01:00,  2.60it/s]"
     ]
    },
    {
     "name": "stdout",
     "output_type": "stream",
     "text": [
      "loss: 22.572040557861328\n",
      "unstigacio\n",
      "[14, 48, 56, 57, 47, 40, 38, 57, 58, 37]\n",
      "steyesstic\n",
      "[56, 57, 49, 2, 49, 39, 56, 57, 47, 40]\n",
      "ledoarapti\n",
      "[4, 28, 54, 28, 34, 29, 38, 23, 57, 47]\n",
      "enthrimusi\n",
      "[34, 23, 57, 27, 4, 47, 16, 33, 56, 47]\n"
     ]
    },
    {
     "name": "stderr",
     "output_type": "stream",
     "text": [
      "\r\n",
      " 25%|████████████████████                                                              | 51/208 [00:21<01:09,  2.27it/s]"
     ]
    },
    {
     "name": "stdout",
     "output_type": "stream",
     "text": [
      "ujbastighi\n",
      "[14, 48, 60, 34, 56, 57, 47, 40, 27, 47]\n"
     ]
    },
    {
     "name": "stderr",
     "output_type": "stream",
     "text": [
      " 48%|██████████████████████████████████████▉                                          | 100/208 [00:41<00:41,  2.61it/s]"
     ]
    },
    {
     "name": "stdout",
     "output_type": "stream",
     "text": [
      "loss: 23.22277069091797\n",
      "zogyntendi\n",
      "[54, 28, 15, 28, 23, 57, 49, 23, 2, 47]\n",
      "Gwichorifi\n",
      "[59, 36, 47, 40, 27, 49, 29, 47, 53, 47]\n",
      "attadizerq\n",
      "[34, 23, 57, 28, 63, 47, 20, 49, 23, 41]\n",
      "inrantessp\n",
      "[25, 48, 4, 34, 23, 57, 49, 39, 56, 45]\n"
     ]
    },
    {
     "name": "stderr",
     "output_type": "stream",
     "text": [
      "\r\n",
      " 49%|███████████████████████████████████████▎                                         | 101/208 [00:42<00:47,  2.23it/s]"
     ]
    },
    {
     "name": "stdout",
     "output_type": "stream",
     "text": [
      "Degitonere\n",
      "[60, 28, 15, 47, 57, 49, 0, 49, 29, 49]\n"
     ]
    },
    {
     "name": "stderr",
     "output_type": "stream",
     "text": [
      " 73%|██████████████████████████████████████████████████████████▊                      | 151/208 [01:04<00:28,  2.00it/s]"
     ]
    },
    {
     "name": "stdout",
     "output_type": "stream",
     "text": [
      "loss: 23.2908935546875\n",
      "rootlopriv\n",
      "[54, 28, 34, 45, 4, 28, 45, 4, 47, 8]\n",
      "phantioure\n",
      "[45, 27, 34, 23, 57, 58, 37, 33, 29, 49]\n",
      "geblemmiss\n",
      "[60, 38, 35, 19, 49, 29, 16, 47, 39, 56]\n",
      "oscivicodn\n",
      "[34, 56, 57, 47, 8, 47, 40, 30, 29, 20]\n",
      "solseulite\n",
      "[56, 30, 26, 56, 49, 47, 26, 47, 57, 49]\n"
     ]
    },
    {
     "name": "stderr",
     "output_type": "stream",
     "text": [
      " 96%|█████████████████████████████████████████████████████████████████████████████▉   | 200/208 [01:26<00:03,  2.11it/s]"
     ]
    },
    {
     "name": "stdout",
     "output_type": "stream",
     "text": [
      "loss: 23.348079681396484\n",
      "Biumthinva\n",
      "[60, 47, 43, 52, 45, 27, 25, 48, 8, 38]\n",
      "chromyagra\n",
      "[45, 27, 4, 28, 16, 28, 34, 40, 4, 38]\n",
      "ogmonfakle\n",
      "[34, 42, 7, 38, 48, 32, 34, 9, 19, 49]\n",
      "alitatorgo\n",
      "[38, 26, 47, 57, 38, 57, 30, 29, 15, 28]\n"
     ]
    },
    {
     "name": "stderr",
     "output_type": "stream",
     "text": [
      "\r\n",
      " 97%|██████████████████████████████████████████████████████████████████████████████▎  | 201/208 [01:27<00:03,  1.87it/s]"
     ]
    },
    {
     "name": "stdout",
     "output_type": "stream",
     "text": [
      "osiumoteco\n",
      "[34, 56, 47, 43, 16, 28, 57, 28, 13, 37]\n"
     ]
    },
    {
     "name": "stderr",
     "output_type": "stream",
     "text": [
      "100%|█████████████████████████████████████████████████████████████████████████████████| 208/208 [01:30<00:00,  2.30it/s]\n",
      "  4%|███▌                                                                                | 1/24 [00:00<00:06,  3.51it/s]"
     ]
    },
    {
     "name": "stdout",
     "output_type": "stream",
     "text": [
      "loss: 23.240787506103516\n",
      "sperromola\n",
      "[59, 45, 49, 29, 4, 28, 16, 30, 26, 38]\n"
     ]
    },
    {
     "name": "stderr",
     "output_type": "stream",
     "text": [
      "100%|███████████████████████████████████████████████████████████████████████████████████| 24/24 [00:04<00:00,  5.48it/s]\n",
      "  0%|                                                                                           | 0/208 [00:00<?, ?it/s]"
     ]
    },
    {
     "name": "stdout",
     "output_type": "stream",
     "text": [
      "========= Results: epoch 9 of 10 =========\n",
      "train loss: 23.23| valid loss: 23.25\n",
      "\n",
      "========= Epoch 10 of 10 =========\n",
      "loss: 23.106956481933594\n",
      "plostlocar\n",
      "[45, 4, 28, 56, 57, 4, 28, 40, 38, 23]\n",
      "stectinerm\n",
      "[59, 57, 49, 23, 57, 47, 20, 49, 29, 16]\n",
      "idhachemin\n",
      "[47, 63, 4, 28, 45, 27, 28, 16, 47, 20]\n",
      "trabulletw\n",
      "[45, 4, 38, 35, 30, 26, 19, 28, 45, 4]\n"
     ]
    },
    {
     "name": "stderr",
     "output_type": "stream",
     "text": [
      "\r\n",
      "  0%|▍                                                                                  | 1/208 [00:00<02:44,  1.26it/s]"
     ]
    },
    {
     "name": "stdout",
     "output_type": "stream",
     "text": [
      "hanoticati\n",
      "[60, 38, 23, 28, 57, 47, 40, 38, 57, 58]\n"
     ]
    },
    {
     "name": "stderr",
     "output_type": "stream",
     "text": [
      " 25%|████████████████████                                                              | 51/208 [00:21<01:12,  2.18it/s]"
     ]
    },
    {
     "name": "stdout",
     "output_type": "stream",
     "text": [
      "loss: 22.834903717041016\n",
      "kinisooach\n",
      "[60, 25, 48, 25, 56, 28, 28, 34, 45, 27]\n",
      "antfuscion\n",
      "[62, 23, 57, 53, 33, 56, 57, 58, 37, 48]\n",
      "undoyanalc\n",
      "[14, 48, 63, 34, 61, 38, 20, 38, 26, 13]\n",
      "mondomooli\n",
      "[13, 37, 48, 63, 28, 16, 30, 30, 26, 47]\n",
      "rencitradl\n",
      "[54, 28, 23, 57, 47, 45, 4, 34, 63, 4]\n"
     ]
    },
    {
     "name": "stderr",
     "output_type": "stream",
     "text": [
      " 49%|███████████████████████████████████████▎                                         | 101/208 [00:42<00:51,  2.06it/s]"
     ]
    },
    {
     "name": "stdout",
     "output_type": "stream",
     "text": [
      "loss: 23.126867294311523\n",
      "cragerypau\n",
      "[32, 4, 34, 42, 49, 29, 31, 40, 38, 57]\n",
      "oidodemarm\n",
      "[34, 25, 63, 28, 54, 28, 16, 38, 29, 13]\n",
      "ruamistiar\n",
      "[46, 55, 38, 16, 47, 56, 57, 47, 38, 29]\n",
      "diceondler\n",
      "[60, 25, 40, 28, 34, 23, 2, 19, 28, 4]\n",
      "cariatydia\n",
      "[13, 34, 29, 47, 38, 57, 31, 20, 47, 38]\n"
     ]
    },
    {
     "name": "stderr",
     "output_type": "stream",
     "text": [
      " 72%|██████████████████████████████████████████████████████████▍                      | 150/208 [01:02<00:24,  2.36it/s]"
     ]
    },
    {
     "name": "stdout",
     "output_type": "stream",
     "text": [
      "loss: 23.38332748413086\n",
      "GocQcuscea\n",
      "[60, 34, 40, 28, 32, 33, 56, 57, 49, 0]\n",
      "delagicstc\n",
      "[63, 38, 26, 38, 15, 47, 40, 56, 57, 40]\n",
      "deronectie\n",
      "[63, 38, 29, 37, 20, 49, 23, 57, 47, 28]\n",
      "shediaciza\n",
      "[59, 27, 49, 63, 47, 38, 57, 47, 20, 38]\n"
     ]
    },
    {
     "name": "stderr",
     "output_type": "stream",
     "text": [
      "\r\n",
      " 73%|██████████████████████████████████████████████████████████▊                      | 151/208 [01:03<00:29,  1.95it/s]"
     ]
    },
    {
     "name": "stdout",
     "output_type": "stream",
     "text": [
      "phedramics\n",
      "[45, 27, 49, 63, 4, 28, 16, 47, 40, 56]\n"
     ]
    },
    {
     "name": "stderr",
     "output_type": "stream",
     "text": [
      " 97%|██████████████████████████████████████████████████████████████████████████████▎  | 201/208 [01:23<00:03,  2.05it/s]"
     ]
    },
    {
     "name": "stdout",
     "output_type": "stream",
     "text": [
      "loss: 22.916852951049805\n",
      "makivaldri\n",
      "[16, 38, 57, 47, 8, 38, 26, 63, 4, 47]\n",
      "Oliacablyd\n",
      "[62, 19, 47, 38, 57, 38, 35, 19, 31, 63]\n",
      "puratoging\n",
      "[45, 30, 29, 38, 57, 37, 15, 47, 20, 15]\n",
      "jalousedra\n",
      "[60, 34, 26, 37, 33, 56, 49, 2, 4, 38]\n",
      "shikicanti\n",
      "[59, 27, 47, 8, 47, 40, 38, 23, 57, 47]\n"
     ]
    },
    {
     "name": "stderr",
     "output_type": "stream",
     "text": [
      "100%|█████████████████████████████████████████████████████████████████████████████████| 208/208 [01:26<00:00,  2.40it/s]\n",
      "  4%|███▌                                                                                | 1/24 [00:00<00:06,  3.51it/s]"
     ]
    },
    {
     "name": "stdout",
     "output_type": "stream",
     "text": [
      "loss: 23.386056900024414\n",
      "viventyadi\n",
      "[60, 47, 8, 49, 23, 57, 28, 34, 63, 47]\n"
     ]
    },
    {
     "name": "stderr",
     "output_type": "stream",
     "text": [
      "100%|███████████████████████████████████████████████████████████████████████████████████| 24/24 [00:04<00:00,  5.45it/s]"
     ]
    },
    {
     "name": "stdout",
     "output_type": "stream",
     "text": [
      "========= Results: epoch 10 of 10 =========\n",
      "train loss: 23.18| valid loss: 23.21\n",
      "\n"
     ]
    },
    {
     "name": "stderr",
     "output_type": "stream",
     "text": [
      "\n"
     ]
    }
   ],
   "source": [
    "# Initialize model\n",
    "model = HMM(N=64, M=M)\n",
    "\n",
    "# Train the model\n",
    "num_epochs = 10\n",
    "trainer = Trainer(model, lr=0.01)\n",
    "\n",
    "for epoch in range(num_epochs):\n",
    "    print(\"========= Epoch %d of %d =========\" % (epoch+1, num_epochs))\n",
    "    train_loss = trainer.train(train_dataset)\n",
    "    valid_loss = trainer.test(valid_dataset)\n",
    "\n",
    "    print(\"========= Results: epoch %d of %d =========\" % (epoch+1, num_epochs))\n",
    "    print(\"train loss: %.2f| valid loss: %.2f\\n\" % (train_loss, valid_loss))\n",
    "\n",
    "torch.save(model.state_dict(), 'HMM.pth')"
   ]
  },
  {
   "cell_type": "markdown",
   "metadata": {
    "id": "zymBj9QrDHRM"
   },
   "source": [
    "**TODO 5**: Try to decode some different sequences (e.g. proper words, misspelled words) with the Viterbi algorithm and give an explanation about the results."
   ]
  },
  {
   "cell_type": "code",
   "execution_count": 16,
   "metadata": {
    "id": "auBibYUTtIom"
   },
   "outputs": [
    {
     "name": "stdout",
     "output_type": "stream",
     "text": [
      "([[60, 38, 20, 15], [60, 38, 20, 15]], tensor([[-18.6994, -18.1349]], device='cuda:0', grad_fn=<GatherBackward0>))\n",
      "([[45, 47, 20, 15, 38], [45, 25, 41, 55, 38]], tensor([[-17.1418, -23.3585]], device='cuda:0', grad_fn=<GatherBackward0>))\n",
      "([[32, 4, 25, 52, 11], [32, 4, 25, 52, 45]], tensor([[-15.6373, -15.5000]], device='cuda:0', grad_fn=<GatherBackward0>))\n"
     ]
    }
   ],
   "source": [
    "##############################################################################\n",
    "#                          IMPLEMENT YOUR CODE                               #\n",
    "##############################################################################\n",
    "\n",
    "x = torch.stack([\n",
    "    torch.tensor(encode(\"jazz\")), \n",
    "    torch.tensor(encode(\"kazz\")),\n",
    "])\n",
    "T = torch.tensor([4,4])\n",
    "print(model.viterbi(x, T))\n",
    "\n",
    "x = torch.stack([\n",
    "    torch.tensor(encode(\"pizza\")), \n",
    "    torch.tensor(encode(\"piqqa\")),\n",
    "])\n",
    "T = torch.tensor([5,5])\n",
    "print(model.viterbi(x, T))\n",
    "\n",
    "x = torch.stack([\n",
    "    torch.tensor(encode(\"climb\")), \n",
    "    torch.tensor(encode(\"climt\")),\n",
    "])\n",
    "T = torch.tensor([5,5])\n",
    "print(model.viterbi(x, T))\n",
    "\n",
    "##############################################################################\n",
    "#                          END OF YOUR CODE                                  #\n",
    "##############################################################################"
   ]
  },
  {
   "cell_type": "markdown",
   "metadata": {
    "id": "XGkke5yMKMYe"
   },
   "source": [
    "**Explanation for TODO 5:** <br>\n",
    "\n",
    "1. jazz vs kazz\n",
    "\n",
    "HMM 모델은 바로 직전의 State에만 영향을 받기 때문에 \"jazz\"와 \"kazz\"의 score에 큰 차이가 없다. 두 단어에서 특이한 부분은 \"zz\"가 이어지는 부분인데, \"ja\"와 \"ka\"의 연속됨의 자연스러움이 비슷하고, \"az\"의 연속되는 것은 동일하기 때문에 \"jazz\"는 실제 단어이고 \"kazz\"는 없는 단어임에도 점수에 큰 차이가 발생하지 않는다.\n",
    "\n",
    "2. pizza vs piqqa\n",
    "\n",
    "두 단어에서 크게 달라지는 부분은 \"zz\"와 \"qq\"이다. \"zz\"는 몇몇 단어에서 실제로 등장하지만 \"qq\"는 등장하지 않는다. 따라서 \"piqqa\"의 점수가 \"pizza\"보다 훨씬 낮다.\n",
    "\n",
    "3. climb vs climt\n",
    "\n",
    "이 또한 마찬가지로, \"mb\"는 자주는 아니어도 몇몇 단어에서 등장한다. 하지만 \"mt\"는 훨씬 적은 빈도로 등장한다. 따라서 \"climb\"의 점수가 \"climt\"보다 높다."
   ]
  }
 ],
 "metadata": {
  "accelerator": "GPU",
  "colab": {
   "collapsed_sections": [],
   "name": "AS4_Part1_HMM.ipynb",
   "provenance": []
  },
  "kernelspec": {
   "display_name": "Python 3 (ipykernel)",
   "language": "python",
   "name": "python3"
  },
  "language_info": {
   "codemirror_mode": {
    "name": "ipython",
    "version": 3
   },
   "file_extension": ".py",
   "mimetype": "text/x-python",
   "name": "python",
   "nbconvert_exporter": "python",
   "pygments_lexer": "ipython3",
   "version": "3.8.10"
  }
 },
 "nbformat": 4,
 "nbformat_minor": 4
}
